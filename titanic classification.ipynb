{
 "cells": [
  {
   "cell_type": "markdown",
   "id": "52dd41cc",
   "metadata": {},
   "source": [
    "# Task\n",
    "\n",
    "Explore the Titanic CSV dataset from Kaggle. Clean the data by introducing dummy variables where necessary and decide how to treat nulls and outliers. Use Exploratory Data Analysis to investigate correlation and identify the best features to include in a model. Use different classification algorithms to predict which people survived and calculate accuracy to choose the best model. "
   ]
  },
  {
   "cell_type": "code",
   "execution_count": 1,
   "id": "2765e77f",
   "metadata": {},
   "outputs": [],
   "source": [
    "#Read in the file using pandas\n",
    "import pandas as pd"
   ]
  },
  {
   "cell_type": "code",
   "execution_count": 2,
   "id": "5eceaf27",
   "metadata": {},
   "outputs": [
    {
     "data": {
      "text/html": [
       "<div>\n",
       "<style scoped>\n",
       "    .dataframe tbody tr th:only-of-type {\n",
       "        vertical-align: middle;\n",
       "    }\n",
       "\n",
       "    .dataframe tbody tr th {\n",
       "        vertical-align: top;\n",
       "    }\n",
       "\n",
       "    .dataframe thead th {\n",
       "        text-align: right;\n",
       "    }\n",
       "</style>\n",
       "<table border=\"1\" class=\"dataframe\">\n",
       "  <thead>\n",
       "    <tr style=\"text-align: right;\">\n",
       "      <th></th>\n",
       "      <th>survived</th>\n",
       "      <th>pclass</th>\n",
       "      <th>sex</th>\n",
       "      <th>age</th>\n",
       "      <th>sibsp</th>\n",
       "      <th>parch</th>\n",
       "      <th>fare</th>\n",
       "      <th>embarked</th>\n",
       "      <th>class</th>\n",
       "      <th>who</th>\n",
       "      <th>adult_male</th>\n",
       "      <th>deck</th>\n",
       "      <th>embark_town</th>\n",
       "      <th>alive</th>\n",
       "      <th>alone</th>\n",
       "    </tr>\n",
       "  </thead>\n",
       "  <tbody>\n",
       "    <tr>\n",
       "      <th>0</th>\n",
       "      <td>0</td>\n",
       "      <td>3</td>\n",
       "      <td>male</td>\n",
       "      <td>22.0</td>\n",
       "      <td>1</td>\n",
       "      <td>0</td>\n",
       "      <td>7.2500</td>\n",
       "      <td>S</td>\n",
       "      <td>Third</td>\n",
       "      <td>man</td>\n",
       "      <td>True</td>\n",
       "      <td>NaN</td>\n",
       "      <td>Southampton</td>\n",
       "      <td>no</td>\n",
       "      <td>False</td>\n",
       "    </tr>\n",
       "    <tr>\n",
       "      <th>1</th>\n",
       "      <td>1</td>\n",
       "      <td>1</td>\n",
       "      <td>female</td>\n",
       "      <td>38.0</td>\n",
       "      <td>1</td>\n",
       "      <td>0</td>\n",
       "      <td>71.2833</td>\n",
       "      <td>C</td>\n",
       "      <td>First</td>\n",
       "      <td>woman</td>\n",
       "      <td>False</td>\n",
       "      <td>C</td>\n",
       "      <td>Cherbourg</td>\n",
       "      <td>yes</td>\n",
       "      <td>False</td>\n",
       "    </tr>\n",
       "    <tr>\n",
       "      <th>2</th>\n",
       "      <td>1</td>\n",
       "      <td>3</td>\n",
       "      <td>female</td>\n",
       "      <td>26.0</td>\n",
       "      <td>0</td>\n",
       "      <td>0</td>\n",
       "      <td>7.9250</td>\n",
       "      <td>S</td>\n",
       "      <td>Third</td>\n",
       "      <td>woman</td>\n",
       "      <td>False</td>\n",
       "      <td>NaN</td>\n",
       "      <td>Southampton</td>\n",
       "      <td>yes</td>\n",
       "      <td>True</td>\n",
       "    </tr>\n",
       "    <tr>\n",
       "      <th>3</th>\n",
       "      <td>1</td>\n",
       "      <td>1</td>\n",
       "      <td>female</td>\n",
       "      <td>35.0</td>\n",
       "      <td>1</td>\n",
       "      <td>0</td>\n",
       "      <td>53.1000</td>\n",
       "      <td>S</td>\n",
       "      <td>First</td>\n",
       "      <td>woman</td>\n",
       "      <td>False</td>\n",
       "      <td>C</td>\n",
       "      <td>Southampton</td>\n",
       "      <td>yes</td>\n",
       "      <td>False</td>\n",
       "    </tr>\n",
       "    <tr>\n",
       "      <th>4</th>\n",
       "      <td>0</td>\n",
       "      <td>3</td>\n",
       "      <td>male</td>\n",
       "      <td>35.0</td>\n",
       "      <td>0</td>\n",
       "      <td>0</td>\n",
       "      <td>8.0500</td>\n",
       "      <td>S</td>\n",
       "      <td>Third</td>\n",
       "      <td>man</td>\n",
       "      <td>True</td>\n",
       "      <td>NaN</td>\n",
       "      <td>Southampton</td>\n",
       "      <td>no</td>\n",
       "      <td>True</td>\n",
       "    </tr>\n",
       "  </tbody>\n",
       "</table>\n",
       "</div>"
      ],
      "text/plain": [
       "   survived  pclass     sex   age  sibsp  parch     fare embarked  class  \\\n",
       "0         0       3    male  22.0      1      0   7.2500        S  Third   \n",
       "1         1       1  female  38.0      1      0  71.2833        C  First   \n",
       "2         1       3  female  26.0      0      0   7.9250        S  Third   \n",
       "3         1       1  female  35.0      1      0  53.1000        S  First   \n",
       "4         0       3    male  35.0      0      0   8.0500        S  Third   \n",
       "\n",
       "     who  adult_male deck  embark_town alive  alone  \n",
       "0    man        True  NaN  Southampton    no  False  \n",
       "1  woman       False    C    Cherbourg   yes  False  \n",
       "2  woman       False  NaN  Southampton   yes   True  \n",
       "3  woman       False    C  Southampton   yes  False  \n",
       "4    man        True  NaN  Southampton    no   True  "
      ]
     },
     "execution_count": 2,
     "metadata": {},
     "output_type": "execute_result"
    }
   ],
   "source": [
    "#Read the file into a dataframe\n",
    "df = pd.read_csv(\"titanic.csv\")\n",
    "df.head()"
   ]
  },
  {
   "cell_type": "code",
   "execution_count": 3,
   "id": "5efcfd14",
   "metadata": {},
   "outputs": [
    {
     "name": "stdout",
     "output_type": "stream",
     "text": [
      "<class 'pandas.core.frame.DataFrame'>\n",
      "RangeIndex: 891 entries, 0 to 890\n",
      "Data columns (total 15 columns):\n",
      " #   Column       Non-Null Count  Dtype  \n",
      "---  ------       --------------  -----  \n",
      " 0   survived     891 non-null    int64  \n",
      " 1   pclass       891 non-null    int64  \n",
      " 2   sex          891 non-null    object \n",
      " 3   age          714 non-null    float64\n",
      " 4   sibsp        891 non-null    int64  \n",
      " 5   parch        891 non-null    int64  \n",
      " 6   fare         891 non-null    float64\n",
      " 7   embarked     889 non-null    object \n",
      " 8   class        891 non-null    object \n",
      " 9   who          891 non-null    object \n",
      " 10  adult_male   891 non-null    bool   \n",
      " 11  deck         203 non-null    object \n",
      " 12  embark_town  889 non-null    object \n",
      " 13  alive        891 non-null    object \n",
      " 14  alone        891 non-null    bool   \n",
      "dtypes: bool(2), float64(2), int64(4), object(7)\n",
      "memory usage: 92.4+ KB\n"
     ]
    }
   ],
   "source": [
    "#Use the info function to see the features of our data\n",
    "df.info()"
   ]
  },
  {
   "cell_type": "markdown",
   "id": "8e9ec966",
   "metadata": {},
   "source": [
    "There are 891 rows and 15 columns in the data set. There are lots of missing values in deck column and some in age, embarked and embark_town. Let's confirm using isna."
   ]
  },
  {
   "cell_type": "code",
   "execution_count": 4,
   "id": "46f23ffd",
   "metadata": {},
   "outputs": [
    {
     "data": {
      "text/plain": [
       "survived         0\n",
       "pclass           0\n",
       "sex              0\n",
       "age            177\n",
       "sibsp            0\n",
       "parch            0\n",
       "fare             0\n",
       "embarked         2\n",
       "class            0\n",
       "who              0\n",
       "adult_male       0\n",
       "deck           688\n",
       "embark_town      2\n",
       "alive            0\n",
       "alone            0\n",
       "dtype: int64"
      ]
     },
     "execution_count": 4,
     "metadata": {},
     "output_type": "execute_result"
    }
   ],
   "source": [
    "df.isna().sum()"
   ]
  },
  {
   "cell_type": "markdown",
   "id": "7ef53821",
   "metadata": {},
   "source": [
    "Age shouldn't be skewed so I think replace with mean. Use describe to see summary statistics for each column. "
   ]
  },
  {
   "cell_type": "code",
   "execution_count": 5,
   "id": "6bb937b5",
   "metadata": {},
   "outputs": [
    {
     "data": {
      "text/html": [
       "<div>\n",
       "<style scoped>\n",
       "    .dataframe tbody tr th:only-of-type {\n",
       "        vertical-align: middle;\n",
       "    }\n",
       "\n",
       "    .dataframe tbody tr th {\n",
       "        vertical-align: top;\n",
       "    }\n",
       "\n",
       "    .dataframe thead th {\n",
       "        text-align: right;\n",
       "    }\n",
       "</style>\n",
       "<table border=\"1\" class=\"dataframe\">\n",
       "  <thead>\n",
       "    <tr style=\"text-align: right;\">\n",
       "      <th></th>\n",
       "      <th>survived</th>\n",
       "      <th>pclass</th>\n",
       "      <th>sex</th>\n",
       "      <th>age</th>\n",
       "      <th>sibsp</th>\n",
       "      <th>parch</th>\n",
       "      <th>fare</th>\n",
       "      <th>embarked</th>\n",
       "      <th>class</th>\n",
       "      <th>who</th>\n",
       "      <th>adult_male</th>\n",
       "      <th>deck</th>\n",
       "      <th>embark_town</th>\n",
       "      <th>alive</th>\n",
       "      <th>alone</th>\n",
       "    </tr>\n",
       "  </thead>\n",
       "  <tbody>\n",
       "    <tr>\n",
       "      <th>count</th>\n",
       "      <td>891.000000</td>\n",
       "      <td>891.000000</td>\n",
       "      <td>891</td>\n",
       "      <td>714.000000</td>\n",
       "      <td>891.000000</td>\n",
       "      <td>891.000000</td>\n",
       "      <td>891.000000</td>\n",
       "      <td>889</td>\n",
       "      <td>891</td>\n",
       "      <td>891</td>\n",
       "      <td>891</td>\n",
       "      <td>203</td>\n",
       "      <td>889</td>\n",
       "      <td>891</td>\n",
       "      <td>891</td>\n",
       "    </tr>\n",
       "    <tr>\n",
       "      <th>unique</th>\n",
       "      <td>NaN</td>\n",
       "      <td>NaN</td>\n",
       "      <td>2</td>\n",
       "      <td>NaN</td>\n",
       "      <td>NaN</td>\n",
       "      <td>NaN</td>\n",
       "      <td>NaN</td>\n",
       "      <td>3</td>\n",
       "      <td>3</td>\n",
       "      <td>3</td>\n",
       "      <td>2</td>\n",
       "      <td>7</td>\n",
       "      <td>3</td>\n",
       "      <td>2</td>\n",
       "      <td>2</td>\n",
       "    </tr>\n",
       "    <tr>\n",
       "      <th>top</th>\n",
       "      <td>NaN</td>\n",
       "      <td>NaN</td>\n",
       "      <td>male</td>\n",
       "      <td>NaN</td>\n",
       "      <td>NaN</td>\n",
       "      <td>NaN</td>\n",
       "      <td>NaN</td>\n",
       "      <td>S</td>\n",
       "      <td>Third</td>\n",
       "      <td>man</td>\n",
       "      <td>True</td>\n",
       "      <td>C</td>\n",
       "      <td>Southampton</td>\n",
       "      <td>no</td>\n",
       "      <td>True</td>\n",
       "    </tr>\n",
       "    <tr>\n",
       "      <th>freq</th>\n",
       "      <td>NaN</td>\n",
       "      <td>NaN</td>\n",
       "      <td>577</td>\n",
       "      <td>NaN</td>\n",
       "      <td>NaN</td>\n",
       "      <td>NaN</td>\n",
       "      <td>NaN</td>\n",
       "      <td>644</td>\n",
       "      <td>491</td>\n",
       "      <td>537</td>\n",
       "      <td>537</td>\n",
       "      <td>59</td>\n",
       "      <td>644</td>\n",
       "      <td>549</td>\n",
       "      <td>537</td>\n",
       "    </tr>\n",
       "    <tr>\n",
       "      <th>mean</th>\n",
       "      <td>0.383838</td>\n",
       "      <td>2.308642</td>\n",
       "      <td>NaN</td>\n",
       "      <td>29.699118</td>\n",
       "      <td>0.523008</td>\n",
       "      <td>0.381594</td>\n",
       "      <td>32.204208</td>\n",
       "      <td>NaN</td>\n",
       "      <td>NaN</td>\n",
       "      <td>NaN</td>\n",
       "      <td>NaN</td>\n",
       "      <td>NaN</td>\n",
       "      <td>NaN</td>\n",
       "      <td>NaN</td>\n",
       "      <td>NaN</td>\n",
       "    </tr>\n",
       "    <tr>\n",
       "      <th>std</th>\n",
       "      <td>0.486592</td>\n",
       "      <td>0.836071</td>\n",
       "      <td>NaN</td>\n",
       "      <td>14.526497</td>\n",
       "      <td>1.102743</td>\n",
       "      <td>0.806057</td>\n",
       "      <td>49.693429</td>\n",
       "      <td>NaN</td>\n",
       "      <td>NaN</td>\n",
       "      <td>NaN</td>\n",
       "      <td>NaN</td>\n",
       "      <td>NaN</td>\n",
       "      <td>NaN</td>\n",
       "      <td>NaN</td>\n",
       "      <td>NaN</td>\n",
       "    </tr>\n",
       "    <tr>\n",
       "      <th>min</th>\n",
       "      <td>0.000000</td>\n",
       "      <td>1.000000</td>\n",
       "      <td>NaN</td>\n",
       "      <td>0.420000</td>\n",
       "      <td>0.000000</td>\n",
       "      <td>0.000000</td>\n",
       "      <td>0.000000</td>\n",
       "      <td>NaN</td>\n",
       "      <td>NaN</td>\n",
       "      <td>NaN</td>\n",
       "      <td>NaN</td>\n",
       "      <td>NaN</td>\n",
       "      <td>NaN</td>\n",
       "      <td>NaN</td>\n",
       "      <td>NaN</td>\n",
       "    </tr>\n",
       "    <tr>\n",
       "      <th>25%</th>\n",
       "      <td>0.000000</td>\n",
       "      <td>2.000000</td>\n",
       "      <td>NaN</td>\n",
       "      <td>20.125000</td>\n",
       "      <td>0.000000</td>\n",
       "      <td>0.000000</td>\n",
       "      <td>7.910400</td>\n",
       "      <td>NaN</td>\n",
       "      <td>NaN</td>\n",
       "      <td>NaN</td>\n",
       "      <td>NaN</td>\n",
       "      <td>NaN</td>\n",
       "      <td>NaN</td>\n",
       "      <td>NaN</td>\n",
       "      <td>NaN</td>\n",
       "    </tr>\n",
       "    <tr>\n",
       "      <th>50%</th>\n",
       "      <td>0.000000</td>\n",
       "      <td>3.000000</td>\n",
       "      <td>NaN</td>\n",
       "      <td>28.000000</td>\n",
       "      <td>0.000000</td>\n",
       "      <td>0.000000</td>\n",
       "      <td>14.454200</td>\n",
       "      <td>NaN</td>\n",
       "      <td>NaN</td>\n",
       "      <td>NaN</td>\n",
       "      <td>NaN</td>\n",
       "      <td>NaN</td>\n",
       "      <td>NaN</td>\n",
       "      <td>NaN</td>\n",
       "      <td>NaN</td>\n",
       "    </tr>\n",
       "    <tr>\n",
       "      <th>75%</th>\n",
       "      <td>1.000000</td>\n",
       "      <td>3.000000</td>\n",
       "      <td>NaN</td>\n",
       "      <td>38.000000</td>\n",
       "      <td>1.000000</td>\n",
       "      <td>0.000000</td>\n",
       "      <td>31.000000</td>\n",
       "      <td>NaN</td>\n",
       "      <td>NaN</td>\n",
       "      <td>NaN</td>\n",
       "      <td>NaN</td>\n",
       "      <td>NaN</td>\n",
       "      <td>NaN</td>\n",
       "      <td>NaN</td>\n",
       "      <td>NaN</td>\n",
       "    </tr>\n",
       "    <tr>\n",
       "      <th>max</th>\n",
       "      <td>1.000000</td>\n",
       "      <td>3.000000</td>\n",
       "      <td>NaN</td>\n",
       "      <td>80.000000</td>\n",
       "      <td>8.000000</td>\n",
       "      <td>6.000000</td>\n",
       "      <td>512.329200</td>\n",
       "      <td>NaN</td>\n",
       "      <td>NaN</td>\n",
       "      <td>NaN</td>\n",
       "      <td>NaN</td>\n",
       "      <td>NaN</td>\n",
       "      <td>NaN</td>\n",
       "      <td>NaN</td>\n",
       "      <td>NaN</td>\n",
       "    </tr>\n",
       "  </tbody>\n",
       "</table>\n",
       "</div>"
      ],
      "text/plain": [
       "          survived      pclass   sex         age       sibsp       parch  \\\n",
       "count   891.000000  891.000000   891  714.000000  891.000000  891.000000   \n",
       "unique         NaN         NaN     2         NaN         NaN         NaN   \n",
       "top            NaN         NaN  male         NaN         NaN         NaN   \n",
       "freq           NaN         NaN   577         NaN         NaN         NaN   \n",
       "mean      0.383838    2.308642   NaN   29.699118    0.523008    0.381594   \n",
       "std       0.486592    0.836071   NaN   14.526497    1.102743    0.806057   \n",
       "min       0.000000    1.000000   NaN    0.420000    0.000000    0.000000   \n",
       "25%       0.000000    2.000000   NaN   20.125000    0.000000    0.000000   \n",
       "50%       0.000000    3.000000   NaN   28.000000    0.000000    0.000000   \n",
       "75%       1.000000    3.000000   NaN   38.000000    1.000000    0.000000   \n",
       "max       1.000000    3.000000   NaN   80.000000    8.000000    6.000000   \n",
       "\n",
       "              fare embarked  class  who adult_male deck  embark_town alive  \\\n",
       "count   891.000000      889    891  891        891  203          889   891   \n",
       "unique         NaN        3      3    3          2    7            3     2   \n",
       "top            NaN        S  Third  man       True    C  Southampton    no   \n",
       "freq           NaN      644    491  537        537   59          644   549   \n",
       "mean     32.204208      NaN    NaN  NaN        NaN  NaN          NaN   NaN   \n",
       "std      49.693429      NaN    NaN  NaN        NaN  NaN          NaN   NaN   \n",
       "min       0.000000      NaN    NaN  NaN        NaN  NaN          NaN   NaN   \n",
       "25%       7.910400      NaN    NaN  NaN        NaN  NaN          NaN   NaN   \n",
       "50%      14.454200      NaN    NaN  NaN        NaN  NaN          NaN   NaN   \n",
       "75%      31.000000      NaN    NaN  NaN        NaN  NaN          NaN   NaN   \n",
       "max     512.329200      NaN    NaN  NaN        NaN  NaN          NaN   NaN   \n",
       "\n",
       "       alone  \n",
       "count    891  \n",
       "unique     2  \n",
       "top     True  \n",
       "freq     537  \n",
       "mean     NaN  \n",
       "std      NaN  \n",
       "min      NaN  \n",
       "25%      NaN  \n",
       "50%      NaN  \n",
       "75%      NaN  \n",
       "max      NaN  "
      ]
     },
     "execution_count": 5,
     "metadata": {},
     "output_type": "execute_result"
    }
   ],
   "source": [
    "df.describe(include = \"all\")"
   ]
  },
  {
   "cell_type": "markdown",
   "id": "a68f9240",
   "metadata": {},
   "source": [
    "Mean and median aren't that different in the age column so replace null values in age with mean. "
   ]
  },
  {
   "cell_type": "code",
   "execution_count": 6,
   "id": "6846569e",
   "metadata": {},
   "outputs": [],
   "source": [
    "df['age'] = df['age'].fillna(df['age'].mean())"
   ]
  },
  {
   "cell_type": "markdown",
   "id": "d49f756c",
   "metadata": {},
   "source": [
    "Replace nulls in embark_town and embarked with most common value. There are only 2 null values anyway so shouldn't have much impact. Value count to see which is the most common."
   ]
  },
  {
   "cell_type": "code",
   "execution_count": 7,
   "id": "5bbc1652",
   "metadata": {},
   "outputs": [
    {
     "data": {
      "text/plain": [
       "Southampton    644\n",
       "Cherbourg      168\n",
       "Queenstown      77\n",
       "Name: embark_town, dtype: int64"
      ]
     },
     "execution_count": 7,
     "metadata": {},
     "output_type": "execute_result"
    }
   ],
   "source": [
    "df['embark_town'].value_counts()"
   ]
  },
  {
   "cell_type": "code",
   "execution_count": 8,
   "id": "5ab5804f",
   "metadata": {},
   "outputs": [],
   "source": [
    "df['embark_town'] = df['embark_town'].fillna('Southampton')"
   ]
  },
  {
   "cell_type": "code",
   "execution_count": 9,
   "id": "ff2aa19c",
   "metadata": {},
   "outputs": [
    {
     "data": {
      "text/plain": [
       "S    644\n",
       "C    168\n",
       "Q     77\n",
       "Name: embarked, dtype: int64"
      ]
     },
     "execution_count": 9,
     "metadata": {},
     "output_type": "execute_result"
    }
   ],
   "source": [
    "df['embarked'].value_counts()"
   ]
  },
  {
   "cell_type": "code",
   "execution_count": 10,
   "id": "dca6b110",
   "metadata": {},
   "outputs": [],
   "source": [
    "df['embarked'] = df['embarked'].fillna('S')"
   ]
  },
  {
   "cell_type": "markdown",
   "id": "6f2748a3",
   "metadata": {},
   "source": [
    "We should only have nulls in deck remaining. Let's double check. "
   ]
  },
  {
   "cell_type": "code",
   "execution_count": 11,
   "id": "f3d6eb18",
   "metadata": {},
   "outputs": [
    {
     "data": {
      "text/plain": [
       "survived         0\n",
       "pclass           0\n",
       "sex              0\n",
       "age              0\n",
       "sibsp            0\n",
       "parch            0\n",
       "fare             0\n",
       "embarked         0\n",
       "class            0\n",
       "who              0\n",
       "adult_male       0\n",
       "deck           688\n",
       "embark_town      0\n",
       "alive            0\n",
       "alone            0\n",
       "dtype: int64"
      ]
     },
     "execution_count": 11,
     "metadata": {},
     "output_type": "execute_result"
    }
   ],
   "source": [
    "df.isna().sum()"
   ]
  },
  {
   "cell_type": "markdown",
   "id": "9a4192b4",
   "metadata": {},
   "source": [
    "Let's value count on deck to see how many of each we have. "
   ]
  },
  {
   "cell_type": "code",
   "execution_count": 12,
   "id": "f7ad419f",
   "metadata": {},
   "outputs": [
    {
     "data": {
      "text/plain": [
       "C    59\n",
       "B    47\n",
       "D    33\n",
       "E    32\n",
       "A    15\n",
       "F    13\n",
       "G     4\n",
       "Name: deck, dtype: int64"
      ]
     },
     "execution_count": 12,
     "metadata": {},
     "output_type": "execute_result"
    }
   ],
   "source": [
    "df['deck'].value_counts()"
   ]
  },
  {
   "cell_type": "markdown",
   "id": "4938701b",
   "metadata": {},
   "source": [
    "There is no clear result here and not enough information to make a decision of what to replace nulls with. Won't use deck in model at all, drop the column."
   ]
  },
  {
   "cell_type": "code",
   "execution_count": 13,
   "id": "b739cc4c",
   "metadata": {},
   "outputs": [],
   "source": [
    "df.drop(columns=['deck'], inplace=True)"
   ]
  },
  {
   "cell_type": "code",
   "execution_count": 14,
   "id": "a063c9dd",
   "metadata": {},
   "outputs": [
    {
     "data": {
      "text/html": [
       "<div>\n",
       "<style scoped>\n",
       "    .dataframe tbody tr th:only-of-type {\n",
       "        vertical-align: middle;\n",
       "    }\n",
       "\n",
       "    .dataframe tbody tr th {\n",
       "        vertical-align: top;\n",
       "    }\n",
       "\n",
       "    .dataframe thead th {\n",
       "        text-align: right;\n",
       "    }\n",
       "</style>\n",
       "<table border=\"1\" class=\"dataframe\">\n",
       "  <thead>\n",
       "    <tr style=\"text-align: right;\">\n",
       "      <th></th>\n",
       "      <th>survived</th>\n",
       "      <th>pclass</th>\n",
       "      <th>sex</th>\n",
       "      <th>age</th>\n",
       "      <th>sibsp</th>\n",
       "      <th>parch</th>\n",
       "      <th>fare</th>\n",
       "      <th>embarked</th>\n",
       "      <th>class</th>\n",
       "      <th>who</th>\n",
       "      <th>adult_male</th>\n",
       "      <th>embark_town</th>\n",
       "      <th>alive</th>\n",
       "      <th>alone</th>\n",
       "    </tr>\n",
       "  </thead>\n",
       "  <tbody>\n",
       "    <tr>\n",
       "      <th>0</th>\n",
       "      <td>0</td>\n",
       "      <td>3</td>\n",
       "      <td>male</td>\n",
       "      <td>22.0</td>\n",
       "      <td>1</td>\n",
       "      <td>0</td>\n",
       "      <td>7.2500</td>\n",
       "      <td>S</td>\n",
       "      <td>Third</td>\n",
       "      <td>man</td>\n",
       "      <td>True</td>\n",
       "      <td>Southampton</td>\n",
       "      <td>no</td>\n",
       "      <td>False</td>\n",
       "    </tr>\n",
       "    <tr>\n",
       "      <th>1</th>\n",
       "      <td>1</td>\n",
       "      <td>1</td>\n",
       "      <td>female</td>\n",
       "      <td>38.0</td>\n",
       "      <td>1</td>\n",
       "      <td>0</td>\n",
       "      <td>71.2833</td>\n",
       "      <td>C</td>\n",
       "      <td>First</td>\n",
       "      <td>woman</td>\n",
       "      <td>False</td>\n",
       "      <td>Cherbourg</td>\n",
       "      <td>yes</td>\n",
       "      <td>False</td>\n",
       "    </tr>\n",
       "    <tr>\n",
       "      <th>2</th>\n",
       "      <td>1</td>\n",
       "      <td>3</td>\n",
       "      <td>female</td>\n",
       "      <td>26.0</td>\n",
       "      <td>0</td>\n",
       "      <td>0</td>\n",
       "      <td>7.9250</td>\n",
       "      <td>S</td>\n",
       "      <td>Third</td>\n",
       "      <td>woman</td>\n",
       "      <td>False</td>\n",
       "      <td>Southampton</td>\n",
       "      <td>yes</td>\n",
       "      <td>True</td>\n",
       "    </tr>\n",
       "    <tr>\n",
       "      <th>3</th>\n",
       "      <td>1</td>\n",
       "      <td>1</td>\n",
       "      <td>female</td>\n",
       "      <td>35.0</td>\n",
       "      <td>1</td>\n",
       "      <td>0</td>\n",
       "      <td>53.1000</td>\n",
       "      <td>S</td>\n",
       "      <td>First</td>\n",
       "      <td>woman</td>\n",
       "      <td>False</td>\n",
       "      <td>Southampton</td>\n",
       "      <td>yes</td>\n",
       "      <td>False</td>\n",
       "    </tr>\n",
       "    <tr>\n",
       "      <th>4</th>\n",
       "      <td>0</td>\n",
       "      <td>3</td>\n",
       "      <td>male</td>\n",
       "      <td>35.0</td>\n",
       "      <td>0</td>\n",
       "      <td>0</td>\n",
       "      <td>8.0500</td>\n",
       "      <td>S</td>\n",
       "      <td>Third</td>\n",
       "      <td>man</td>\n",
       "      <td>True</td>\n",
       "      <td>Southampton</td>\n",
       "      <td>no</td>\n",
       "      <td>True</td>\n",
       "    </tr>\n",
       "  </tbody>\n",
       "</table>\n",
       "</div>"
      ],
      "text/plain": [
       "   survived  pclass     sex   age  sibsp  parch     fare embarked  class  \\\n",
       "0         0       3    male  22.0      1      0   7.2500        S  Third   \n",
       "1         1       1  female  38.0      1      0  71.2833        C  First   \n",
       "2         1       3  female  26.0      0      0   7.9250        S  Third   \n",
       "3         1       1  female  35.0      1      0  53.1000        S  First   \n",
       "4         0       3    male  35.0      0      0   8.0500        S  Third   \n",
       "\n",
       "     who  adult_male  embark_town alive  alone  \n",
       "0    man        True  Southampton    no  False  \n",
       "1  woman       False    Cherbourg   yes  False  \n",
       "2  woman       False  Southampton   yes   True  \n",
       "3  woman       False  Southampton   yes  False  \n",
       "4    man        True  Southampton    no   True  "
      ]
     },
     "execution_count": 14,
     "metadata": {},
     "output_type": "execute_result"
    }
   ],
   "source": [
    "df.head()"
   ]
  },
  {
   "cell_type": "markdown",
   "id": "6223035d",
   "metadata": {},
   "source": [
    "There may be outliers in age and fare. Let's have a look at their boxplots."
   ]
  },
  {
   "cell_type": "code",
   "execution_count": 15,
   "id": "d9d54fd6",
   "metadata": {},
   "outputs": [],
   "source": [
    "#import visualisation tools\n",
    "import matplotlib.pyplot as plt\n",
    "import seaborn as sns\n",
    "%matplotlib inline "
   ]
  },
  {
   "cell_type": "code",
   "execution_count": 16,
   "id": "4eba202f",
   "metadata": {},
   "outputs": [
    {
     "name": "stderr",
     "output_type": "stream",
     "text": [
      "C:\\Users\\44784\\anaconda3\\lib\\site-packages\\seaborn\\_decorators.py:36: FutureWarning: Pass the following variable as a keyword arg: x. From version 0.12, the only valid positional argument will be `data`, and passing other arguments without an explicit keyword will result in an error or misinterpretation.\n",
      "  warnings.warn(\n"
     ]
    },
    {
     "data": {
      "text/plain": [
       "<AxesSubplot:xlabel='fare'>"
      ]
     },
     "execution_count": 16,
     "metadata": {},
     "output_type": "execute_result"
    },
    {
     "data": {
      "image/png": "[encoded data removed]",
      "text/plain": [
       "<Figure size 432x288 with 1 Axes>"
      ]
     },
     "metadata": {
      "needs_background": "light"
     },
     "output_type": "display_data"
    }
   ],
   "source": [
    "sns.boxplot(df['fare'])"
   ]
  },
  {
   "cell_type": "markdown",
   "id": "6f94d758",
   "metadata": {},
   "source": [
    "Fare does have outliers. There are different techniques we can use to treat outliers. Let's try removing those above the upper whisker : Q3 + (1.5 * IQR). To do that introduce a function. "
   ]
  },
  {
   "cell_type": "code",
   "execution_count": 17,
   "id": "8f6927c9",
   "metadata": {},
   "outputs": [],
   "source": [
    "def outliers(df, feature):\n",
    "    Q1= df[feature].quantile(0.25)\n",
    "    Q3 = df[feature].quantile(0.75)\n",
    "    IQR = Q3 - Q1\n",
    "    upper_whisker = Q3 + 1.5 * IQR\n",
    "    lower_whisker = Q1 - 1.5 * IQR\n",
    "    return upper_whisker, lower_whisker"
   ]
  },
  {
   "cell_type": "code",
   "execution_count": 18,
   "id": "9d5ba30a",
   "metadata": {},
   "outputs": [
    {
     "name": "stdout",
     "output_type": "stream",
     "text": [
      "Upper whisker:  65.6344\n",
      "Lower Whisker:  -26.724\n"
     ]
    }
   ],
   "source": [
    "upper, lower = outliers(df, \"fare\")\n",
    "print(\"Upper whisker: \", upper)\n",
    "print(\"Lower Whisker: \", lower)"
   ]
  },
  {
   "cell_type": "markdown",
   "id": "394c78ba",
   "metadata": {},
   "source": [
    "Can't pay a minus fare so just need to remove fares above the upperwhisker. Create a new dataframe with outlier fares removed."
   ]
  },
  {
   "cell_type": "code",
   "execution_count": 19,
   "id": "bde78aeb",
   "metadata": {},
   "outputs": [],
   "source": [
    "df2 = df[(df['fare'] < upper)]"
   ]
  },
  {
   "cell_type": "markdown",
   "id": "cefcb062",
   "metadata": {},
   "source": [
    "Double check that there's no maximum fare above 65."
   ]
  },
  {
   "cell_type": "code",
   "execution_count": 20,
   "id": "9fd21d60",
   "metadata": {},
   "outputs": [
    {
     "data": {
      "text/html": [
       "<div>\n",
       "<style scoped>\n",
       "    .dataframe tbody tr th:only-of-type {\n",
       "        vertical-align: middle;\n",
       "    }\n",
       "\n",
       "    .dataframe tbody tr th {\n",
       "        vertical-align: top;\n",
       "    }\n",
       "\n",
       "    .dataframe thead th {\n",
       "        text-align: right;\n",
       "    }\n",
       "</style>\n",
       "<table border=\"1\" class=\"dataframe\">\n",
       "  <thead>\n",
       "    <tr style=\"text-align: right;\">\n",
       "      <th></th>\n",
       "      <th>survived</th>\n",
       "      <th>pclass</th>\n",
       "      <th>age</th>\n",
       "      <th>sibsp</th>\n",
       "      <th>parch</th>\n",
       "      <th>fare</th>\n",
       "    </tr>\n",
       "  </thead>\n",
       "  <tbody>\n",
       "    <tr>\n",
       "      <th>count</th>\n",
       "      <td>775.000000</td>\n",
       "      <td>775.00000</td>\n",
       "      <td>775.000000</td>\n",
       "      <td>775.000000</td>\n",
       "      <td>775.000000</td>\n",
       "      <td>775.000000</td>\n",
       "    </tr>\n",
       "    <tr>\n",
       "      <th>mean</th>\n",
       "      <td>0.339355</td>\n",
       "      <td>2.48000</td>\n",
       "      <td>29.103880</td>\n",
       "      <td>0.437419</td>\n",
       "      <td>0.340645</td>\n",
       "      <td>17.822091</td>\n",
       "    </tr>\n",
       "    <tr>\n",
       "      <th>std</th>\n",
       "      <td>0.473796</td>\n",
       "      <td>0.73439</td>\n",
       "      <td>12.779988</td>\n",
       "      <td>0.899838</td>\n",
       "      <td>0.785914</td>\n",
       "      <td>13.578085</td>\n",
       "    </tr>\n",
       "    <tr>\n",
       "      <th>min</th>\n",
       "      <td>0.000000</td>\n",
       "      <td>1.00000</td>\n",
       "      <td>0.420000</td>\n",
       "      <td>0.000000</td>\n",
       "      <td>0.000000</td>\n",
       "      <td>0.000000</td>\n",
       "    </tr>\n",
       "    <tr>\n",
       "      <th>25%</th>\n",
       "      <td>0.000000</td>\n",
       "      <td>2.00000</td>\n",
       "      <td>22.000000</td>\n",
       "      <td>0.000000</td>\n",
       "      <td>0.000000</td>\n",
       "      <td>7.895800</td>\n",
       "    </tr>\n",
       "    <tr>\n",
       "      <th>50%</th>\n",
       "      <td>0.000000</td>\n",
       "      <td>3.00000</td>\n",
       "      <td>29.699118</td>\n",
       "      <td>0.000000</td>\n",
       "      <td>0.000000</td>\n",
       "      <td>13.000000</td>\n",
       "    </tr>\n",
       "    <tr>\n",
       "      <th>75%</th>\n",
       "      <td>1.000000</td>\n",
       "      <td>3.00000</td>\n",
       "      <td>34.000000</td>\n",
       "      <td>1.000000</td>\n",
       "      <td>0.000000</td>\n",
       "      <td>26.000000</td>\n",
       "    </tr>\n",
       "    <tr>\n",
       "      <th>max</th>\n",
       "      <td>1.000000</td>\n",
       "      <td>3.00000</td>\n",
       "      <td>80.000000</td>\n",
       "      <td>5.000000</td>\n",
       "      <td>6.000000</td>\n",
       "      <td>65.000000</td>\n",
       "    </tr>\n",
       "  </tbody>\n",
       "</table>\n",
       "</div>"
      ],
      "text/plain": [
       "         survived     pclass         age       sibsp       parch        fare\n",
       "count  775.000000  775.00000  775.000000  775.000000  775.000000  775.000000\n",
       "mean     0.339355    2.48000   29.103880    0.437419    0.340645   17.822091\n",
       "std      0.473796    0.73439   12.779988    0.899838    0.785914   13.578085\n",
       "min      0.000000    1.00000    0.420000    0.000000    0.000000    0.000000\n",
       "25%      0.000000    2.00000   22.000000    0.000000    0.000000    7.895800\n",
       "50%      0.000000    3.00000   29.699118    0.000000    0.000000   13.000000\n",
       "75%      1.000000    3.00000   34.000000    1.000000    0.000000   26.000000\n",
       "max      1.000000    3.00000   80.000000    5.000000    6.000000   65.000000"
      ]
     },
     "execution_count": 20,
     "metadata": {},
     "output_type": "execute_result"
    }
   ],
   "source": [
    "df2.describe()"
   ]
  },
  {
   "cell_type": "markdown",
   "id": "ba4224f9",
   "metadata": {},
   "source": [
    "Let's see whether age has outliers using a box plot."
   ]
  },
  {
   "cell_type": "code",
   "execution_count": 21,
   "id": "9fa05cf8",
   "metadata": {},
   "outputs": [
    {
     "name": "stderr",
     "output_type": "stream",
     "text": [
      "C:\\Users\\44784\\anaconda3\\lib\\site-packages\\seaborn\\_decorators.py:36: FutureWarning: Pass the following variable as a keyword arg: x. From version 0.12, the only valid positional argument will be `data`, and passing other arguments without an explicit keyword will result in an error or misinterpretation.\n",
      "  warnings.warn(\n"
     ]
    },
    {
     "data": {
      "text/plain": [
       "<AxesSubplot:xlabel='age'>"
      ]
     },
     "execution_count": 21,
     "metadata": {},
     "output_type": "execute_result"
    },
    {
     "data": {
      "image/png": "[encoded data removed]",
      "text/plain": [
       "<Figure size 432x288 with 1 Axes>"
      ]
     },
     "metadata": {
      "needs_background": "light"
     },
     "output_type": "display_data"
    }
   ],
   "source": [
    "sns.boxplot(df['age'])"
   ]
  },
  {
   "cell_type": "markdown",
   "id": "99f92544",
   "metadata": {},
   "source": [
    "Call the outliers function again, this time on age. "
   ]
  },
  {
   "cell_type": "code",
   "execution_count": 22,
   "id": "fcc3a6f7",
   "metadata": {},
   "outputs": [
    {
     "name": "stdout",
     "output_type": "stream",
     "text": [
      "Upper whisker:  54.5\n",
      "Lower Whisker:  2.5\n"
     ]
    }
   ],
   "source": [
    "upper2, lower2 = outliers(df, \"age\")\n",
    "print(\"Upper whisker: \", upper2)\n",
    "print(\"Lower Whisker: \", lower2)"
   ]
  },
  {
   "cell_type": "markdown",
   "id": "d61ee7d2",
   "metadata": {},
   "source": [
    "There could be a baby less than 2.5 years old so need to remove values both above upper whisker and below lower whisker. Create a new dataframe to do so. "
   ]
  },
  {
   "cell_type": "code",
   "execution_count": 23,
   "id": "7a0bc0fd",
   "metadata": {},
   "outputs": [
    {
     "name": "stderr",
     "output_type": "stream",
     "text": [
      "<ipython-input-23-919f1d1f2d03>:1: UserWarning: Boolean Series key will be reindexed to match DataFrame index.\n",
      "  df3 = df2[(df2['age'] > lower2) & (df['age'] < upper2)]\n"
     ]
    }
   ],
   "source": [
    "df3 = df2[(df2['age'] > lower2) & (df['age'] < upper2)]"
   ]
  },
  {
   "cell_type": "markdown",
   "id": "d61b9f45",
   "metadata": {},
   "source": [
    "Let's check whether max age is less than 55."
   ]
  },
  {
   "cell_type": "code",
   "execution_count": 24,
   "id": "e589b2d6",
   "metadata": {},
   "outputs": [
    {
     "data": {
      "text/html": [
       "<div>\n",
       "<style scoped>\n",
       "    .dataframe tbody tr th:only-of-type {\n",
       "        vertical-align: middle;\n",
       "    }\n",
       "\n",
       "    .dataframe tbody tr th {\n",
       "        vertical-align: top;\n",
       "    }\n",
       "\n",
       "    .dataframe thead th {\n",
       "        text-align: right;\n",
       "    }\n",
       "</style>\n",
       "<table border=\"1\" class=\"dataframe\">\n",
       "  <thead>\n",
       "    <tr style=\"text-align: right;\">\n",
       "      <th></th>\n",
       "      <th>survived</th>\n",
       "      <th>pclass</th>\n",
       "      <th>age</th>\n",
       "      <th>sibsp</th>\n",
       "      <th>parch</th>\n",
       "      <th>fare</th>\n",
       "    </tr>\n",
       "  </thead>\n",
       "  <tbody>\n",
       "    <tr>\n",
       "      <th>count</th>\n",
       "      <td>721.000000</td>\n",
       "      <td>721.000000</td>\n",
       "      <td>721.000000</td>\n",
       "      <td>721.000000</td>\n",
       "      <td>721.000000</td>\n",
       "      <td>721.000000</td>\n",
       "    </tr>\n",
       "    <tr>\n",
       "      <th>mean</th>\n",
       "      <td>0.337032</td>\n",
       "      <td>2.509015</td>\n",
       "      <td>28.476085</td>\n",
       "      <td>0.414702</td>\n",
       "      <td>0.323162</td>\n",
       "      <td>17.389845</td>\n",
       "    </tr>\n",
       "    <tr>\n",
       "      <th>std</th>\n",
       "      <td>0.473024</td>\n",
       "      <td>0.717046</td>\n",
       "      <td>10.043466</td>\n",
       "      <td>0.853916</td>\n",
       "      <td>0.788549</td>\n",
       "      <td>13.563036</td>\n",
       "    </tr>\n",
       "    <tr>\n",
       "      <th>min</th>\n",
       "      <td>0.000000</td>\n",
       "      <td>1.000000</td>\n",
       "      <td>3.000000</td>\n",
       "      <td>0.000000</td>\n",
       "      <td>0.000000</td>\n",
       "      <td>0.000000</td>\n",
       "    </tr>\n",
       "    <tr>\n",
       "      <th>25%</th>\n",
       "      <td>0.000000</td>\n",
       "      <td>2.000000</td>\n",
       "      <td>22.000000</td>\n",
       "      <td>0.000000</td>\n",
       "      <td>0.000000</td>\n",
       "      <td>7.895800</td>\n",
       "    </tr>\n",
       "    <tr>\n",
       "      <th>50%</th>\n",
       "      <td>0.000000</td>\n",
       "      <td>3.000000</td>\n",
       "      <td>29.699118</td>\n",
       "      <td>0.000000</td>\n",
       "      <td>0.000000</td>\n",
       "      <td>12.275000</td>\n",
       "    </tr>\n",
       "    <tr>\n",
       "      <th>75%</th>\n",
       "      <td>1.000000</td>\n",
       "      <td>3.000000</td>\n",
       "      <td>33.000000</td>\n",
       "      <td>1.000000</td>\n",
       "      <td>0.000000</td>\n",
       "      <td>26.000000</td>\n",
       "    </tr>\n",
       "    <tr>\n",
       "      <th>max</th>\n",
       "      <td>1.000000</td>\n",
       "      <td>3.000000</td>\n",
       "      <td>54.000000</td>\n",
       "      <td>5.000000</td>\n",
       "      <td>6.000000</td>\n",
       "      <td>65.000000</td>\n",
       "    </tr>\n",
       "  </tbody>\n",
       "</table>\n",
       "</div>"
      ],
      "text/plain": [
       "         survived      pclass         age       sibsp       parch        fare\n",
       "count  721.000000  721.000000  721.000000  721.000000  721.000000  721.000000\n",
       "mean     0.337032    2.509015   28.476085    0.414702    0.323162   17.389845\n",
       "std      0.473024    0.717046   10.043466    0.853916    0.788549   13.563036\n",
       "min      0.000000    1.000000    3.000000    0.000000    0.000000    0.000000\n",
       "25%      0.000000    2.000000   22.000000    0.000000    0.000000    7.895800\n",
       "50%      0.000000    3.000000   29.699118    0.000000    0.000000   12.275000\n",
       "75%      1.000000    3.000000   33.000000    1.000000    0.000000   26.000000\n",
       "max      1.000000    3.000000   54.000000    5.000000    6.000000   65.000000"
      ]
     },
     "execution_count": 24,
     "metadata": {},
     "output_type": "execute_result"
    }
   ],
   "source": [
    "df3.describe()"
   ]
  },
  {
   "cell_type": "markdown",
   "id": "02a35520",
   "metadata": {},
   "source": [
    "Some of the columns are duplicates. For example, survived is the same as alive, pclass same as class and embarked same as embark_town. Drop columns from model. "
   ]
  },
  {
   "cell_type": "code",
   "execution_count": 25,
   "id": "899b34d3",
   "metadata": {},
   "outputs": [
    {
     "name": "stderr",
     "output_type": "stream",
     "text": [
      "C:\\Users\\44784\\anaconda3\\lib\\site-packages\\pandas\\core\\frame.py:4308: SettingWithCopyWarning: \n",
      "A value is trying to be set on a copy of a slice from a DataFrame\n",
      "\n",
      "See the caveats in the documentation: https://pandas.pydata.org/pandas-docs/stable/user_guide/indexing.html#returning-a-view-versus-a-copy\n",
      "  return super().drop(\n"
     ]
    },
    {
     "data": {
      "text/html": [
       "<div>\n",
       "<style scoped>\n",
       "    .dataframe tbody tr th:only-of-type {\n",
       "        vertical-align: middle;\n",
       "    }\n",
       "\n",
       "    .dataframe tbody tr th {\n",
       "        vertical-align: top;\n",
       "    }\n",
       "\n",
       "    .dataframe thead th {\n",
       "        text-align: right;\n",
       "    }\n",
       "</style>\n",
       "<table border=\"1\" class=\"dataframe\">\n",
       "  <thead>\n",
       "    <tr style=\"text-align: right;\">\n",
       "      <th></th>\n",
       "      <th>survived</th>\n",
       "      <th>pclass</th>\n",
       "      <th>sex</th>\n",
       "      <th>age</th>\n",
       "      <th>sibsp</th>\n",
       "      <th>parch</th>\n",
       "      <th>fare</th>\n",
       "      <th>who</th>\n",
       "      <th>adult_male</th>\n",
       "      <th>embark_town</th>\n",
       "      <th>alone</th>\n",
       "    </tr>\n",
       "  </thead>\n",
       "  <tbody>\n",
       "    <tr>\n",
       "      <th>0</th>\n",
       "      <td>0</td>\n",
       "      <td>3</td>\n",
       "      <td>male</td>\n",
       "      <td>22.000000</td>\n",
       "      <td>1</td>\n",
       "      <td>0</td>\n",
       "      <td>7.2500</td>\n",
       "      <td>man</td>\n",
       "      <td>True</td>\n",
       "      <td>Southampton</td>\n",
       "      <td>False</td>\n",
       "    </tr>\n",
       "    <tr>\n",
       "      <th>2</th>\n",
       "      <td>1</td>\n",
       "      <td>3</td>\n",
       "      <td>female</td>\n",
       "      <td>26.000000</td>\n",
       "      <td>0</td>\n",
       "      <td>0</td>\n",
       "      <td>7.9250</td>\n",
       "      <td>woman</td>\n",
       "      <td>False</td>\n",
       "      <td>Southampton</td>\n",
       "      <td>True</td>\n",
       "    </tr>\n",
       "    <tr>\n",
       "      <th>3</th>\n",
       "      <td>1</td>\n",
       "      <td>1</td>\n",
       "      <td>female</td>\n",
       "      <td>35.000000</td>\n",
       "      <td>1</td>\n",
       "      <td>0</td>\n",
       "      <td>53.1000</td>\n",
       "      <td>woman</td>\n",
       "      <td>False</td>\n",
       "      <td>Southampton</td>\n",
       "      <td>False</td>\n",
       "    </tr>\n",
       "    <tr>\n",
       "      <th>4</th>\n",
       "      <td>0</td>\n",
       "      <td>3</td>\n",
       "      <td>male</td>\n",
       "      <td>35.000000</td>\n",
       "      <td>0</td>\n",
       "      <td>0</td>\n",
       "      <td>8.0500</td>\n",
       "      <td>man</td>\n",
       "      <td>True</td>\n",
       "      <td>Southampton</td>\n",
       "      <td>True</td>\n",
       "    </tr>\n",
       "    <tr>\n",
       "      <th>5</th>\n",
       "      <td>0</td>\n",
       "      <td>3</td>\n",
       "      <td>male</td>\n",
       "      <td>29.699118</td>\n",
       "      <td>0</td>\n",
       "      <td>0</td>\n",
       "      <td>8.4583</td>\n",
       "      <td>man</td>\n",
       "      <td>True</td>\n",
       "      <td>Queenstown</td>\n",
       "      <td>True</td>\n",
       "    </tr>\n",
       "  </tbody>\n",
       "</table>\n",
       "</div>"
      ],
      "text/plain": [
       "   survived  pclass     sex        age  sibsp  parch     fare    who  \\\n",
       "0         0       3    male  22.000000      1      0   7.2500    man   \n",
       "2         1       3  female  26.000000      0      0   7.9250  woman   \n",
       "3         1       1  female  35.000000      1      0  53.1000  woman   \n",
       "4         0       3    male  35.000000      0      0   8.0500    man   \n",
       "5         0       3    male  29.699118      0      0   8.4583    man   \n",
       "\n",
       "   adult_male  embark_town  alone  \n",
       "0        True  Southampton  False  \n",
       "2       False  Southampton   True  \n",
       "3       False  Southampton  False  \n",
       "4        True  Southampton   True  \n",
       "5        True   Queenstown   True  "
      ]
     },
     "execution_count": 25,
     "metadata": {},
     "output_type": "execute_result"
    }
   ],
   "source": [
    "df3.drop(columns=['alive', 'class', 'embarked'], inplace=True)\n",
    "df3.head()"
   ]
  },
  {
   "cell_type": "markdown",
   "id": "cc090238",
   "metadata": {},
   "source": [
    "I now need to change non-numeric values to numeric so that the classfication algorithms will work. Because there's only two values for sex I can map male to 0 and female to 1. "
   ]
  },
  {
   "cell_type": "code",
   "execution_count": 26,
   "id": "2f895f7d",
   "metadata": {},
   "outputs": [
    {
     "data": {
      "text/plain": [
       "male      490\n",
       "female    231\n",
       "Name: sex, dtype: int64"
      ]
     },
     "execution_count": 26,
     "metadata": {},
     "output_type": "execute_result"
    }
   ],
   "source": [
    "df3['sex'].value_counts()"
   ]
  },
  {
   "cell_type": "code",
   "execution_count": 29,
   "id": "2401f5da",
   "metadata": {},
   "outputs": [
    {
     "name": "stderr",
     "output_type": "stream",
     "text": [
      "<ipython-input-29-c9093207177e>:1: SettingWithCopyWarning: \n",
      "A value is trying to be set on a copy of a slice from a DataFrame.\n",
      "Try using .loc[row_indexer,col_indexer] = value instead\n",
      "\n",
      "See the caveats in the documentation: https://pandas.pydata.org/pandas-docs/stable/user_guide/indexing.html#returning-a-view-versus-a-copy\n",
      "  df3['sex'] = df3['sex'].map({'male': 0, 'female': 1})\n"
     ]
    }
   ],
   "source": [
    "df3['sex'] = df3['sex'].map({'male': 0, 'female': 1})"
   ]
  },
  {
   "cell_type": "markdown",
   "id": "7aa9380e",
   "metadata": {},
   "source": [
    "double check value count is same as before"
   ]
  },
  {
   "cell_type": "code",
   "execution_count": 30,
   "id": "eded1f42",
   "metadata": {},
   "outputs": [
    {
     "data": {
      "text/plain": [
       "0    490\n",
       "1    231\n",
       "Name: sex, dtype: int64"
      ]
     },
     "execution_count": 30,
     "metadata": {},
     "output_type": "execute_result"
    }
   ],
   "source": [
    "df3['sex'].value_counts()"
   ]
  },
  {
   "cell_type": "markdown",
   "id": "3c8e3165",
   "metadata": {},
   "source": [
    "Because there's only two values for adult_male can map False to 0 and True to 1."
   ]
  },
  {
   "cell_type": "code",
   "execution_count": 31,
   "id": "6c90454f",
   "metadata": {},
   "outputs": [
    {
     "data": {
      "text/plain": [
       "True     466\n",
       "False    255\n",
       "Name: adult_male, dtype: int64"
      ]
     },
     "execution_count": 31,
     "metadata": {},
     "output_type": "execute_result"
    }
   ],
   "source": [
    "df3['adult_male'].value_counts()"
   ]
  },
  {
   "cell_type": "code",
   "execution_count": 32,
   "id": "e1e5fa8d",
   "metadata": {},
   "outputs": [
    {
     "name": "stderr",
     "output_type": "stream",
     "text": [
      "<ipython-input-32-9e9e6e3e5546>:1: SettingWithCopyWarning: \n",
      "A value is trying to be set on a copy of a slice from a DataFrame.\n",
      "Try using .loc[row_indexer,col_indexer] = value instead\n",
      "\n",
      "See the caveats in the documentation: https://pandas.pydata.org/pandas-docs/stable/user_guide/indexing.html#returning-a-view-versus-a-copy\n",
      "  df3['adult_male'] = df3['adult_male'].map({False: 0, True: 1})\n"
     ]
    }
   ],
   "source": [
    "df3['adult_male'] = df3['adult_male'].map({False: 0, True: 1})"
   ]
  },
  {
   "cell_type": "code",
   "execution_count": 33,
   "id": "997c15fa",
   "metadata": {},
   "outputs": [
    {
     "data": {
      "text/plain": [
       "1    466\n",
       "0    255\n",
       "Name: adult_male, dtype: int64"
      ]
     },
     "execution_count": 33,
     "metadata": {},
     "output_type": "execute_result"
    }
   ],
   "source": [
    "df3['adult_male'].value_counts()"
   ]
  },
  {
   "cell_type": "markdown",
   "id": "b1e29ec3",
   "metadata": {},
   "source": [
    "Because there's only two values for alone can map False to 0 and True to 1."
   ]
  },
  {
   "cell_type": "code",
   "execution_count": 34,
   "id": "0d4a3544",
   "metadata": {},
   "outputs": [
    {
     "data": {
      "text/plain": [
       "True     473\n",
       "False    248\n",
       "Name: alone, dtype: int64"
      ]
     },
     "execution_count": 34,
     "metadata": {},
     "output_type": "execute_result"
    }
   ],
   "source": [
    "df3['alone'].value_counts()"
   ]
  },
  {
   "cell_type": "code",
   "execution_count": 35,
   "id": "b6aaf5c6",
   "metadata": {},
   "outputs": [
    {
     "name": "stderr",
     "output_type": "stream",
     "text": [
      "<ipython-input-35-9672b4cdc341>:1: SettingWithCopyWarning: \n",
      "A value is trying to be set on a copy of a slice from a DataFrame.\n",
      "Try using .loc[row_indexer,col_indexer] = value instead\n",
      "\n",
      "See the caveats in the documentation: https://pandas.pydata.org/pandas-docs/stable/user_guide/indexing.html#returning-a-view-versus-a-copy\n",
      "  df3['alone'] = df3['alone'].map({False: 0, True: 1})\n"
     ]
    }
   ],
   "source": [
    "df3['alone'] = df3['alone'].map({False: 0, True: 1})"
   ]
  },
  {
   "cell_type": "code",
   "execution_count": 36,
   "id": "6ad51b8f",
   "metadata": {},
   "outputs": [
    {
     "data": {
      "text/plain": [
       "1    473\n",
       "0    248\n",
       "Name: alone, dtype: int64"
      ]
     },
     "execution_count": 36,
     "metadata": {},
     "output_type": "execute_result"
    }
   ],
   "source": [
    "df3['alone'].value_counts()"
   ]
  },
  {
   "cell_type": "markdown",
   "id": "0bb8dc81",
   "metadata": {},
   "source": [
    "Now we need to dummy encode pclass, embarked and who columns because they don't have a numerical relationship. "
   ]
  },
  {
   "cell_type": "code",
   "execution_count": 37,
   "id": "331c229e",
   "metadata": {},
   "outputs": [
    {
     "data": {
      "text/html": [
       "<div>\n",
       "<style scoped>\n",
       "    .dataframe tbody tr th:only-of-type {\n",
       "        vertical-align: middle;\n",
       "    }\n",
       "\n",
       "    .dataframe tbody tr th {\n",
       "        vertical-align: top;\n",
       "    }\n",
       "\n",
       "    .dataframe thead th {\n",
       "        text-align: right;\n",
       "    }\n",
       "</style>\n",
       "<table border=\"1\" class=\"dataframe\">\n",
       "  <thead>\n",
       "    <tr style=\"text-align: right;\">\n",
       "      <th></th>\n",
       "      <th>pclass_1</th>\n",
       "      <th>pclass_2</th>\n",
       "      <th>pclass_3</th>\n",
       "    </tr>\n",
       "  </thead>\n",
       "  <tbody>\n",
       "    <tr>\n",
       "      <th>73</th>\n",
       "      <td>0</td>\n",
       "      <td>0</td>\n",
       "      <td>1</td>\n",
       "    </tr>\n",
       "    <tr>\n",
       "      <th>74</th>\n",
       "      <td>0</td>\n",
       "      <td>0</td>\n",
       "      <td>1</td>\n",
       "    </tr>\n",
       "    <tr>\n",
       "      <th>261</th>\n",
       "      <td>0</td>\n",
       "      <td>0</td>\n",
       "      <td>1</td>\n",
       "    </tr>\n",
       "    <tr>\n",
       "      <th>794</th>\n",
       "      <td>0</td>\n",
       "      <td>0</td>\n",
       "      <td>1</td>\n",
       "    </tr>\n",
       "    <tr>\n",
       "      <th>10</th>\n",
       "      <td>0</td>\n",
       "      <td>0</td>\n",
       "      <td>1</td>\n",
       "    </tr>\n",
       "  </tbody>\n",
       "</table>\n",
       "</div>"
      ],
      "text/plain": [
       "     pclass_1  pclass_2  pclass_3\n",
       "73          0         0         1\n",
       "74          0         0         1\n",
       "261         0         0         1\n",
       "794         0         0         1\n",
       "10          0         0         1"
      ]
     },
     "execution_count": 37,
     "metadata": {},
     "output_type": "execute_result"
    }
   ],
   "source": [
    "pclass_dummies = pd.get_dummies(df3.pclass, prefix='pclass')\n",
    "\n",
    "pclass_dummies.sample(n=5, random_state=1)"
   ]
  },
  {
   "cell_type": "code",
   "execution_count": 38,
   "id": "4d4806c4",
   "metadata": {},
   "outputs": [
    {
     "data": {
      "text/html": [
       "<div>\n",
       "<style scoped>\n",
       "    .dataframe tbody tr th:only-of-type {\n",
       "        vertical-align: middle;\n",
       "    }\n",
       "\n",
       "    .dataframe tbody tr th {\n",
       "        vertical-align: top;\n",
       "    }\n",
       "\n",
       "    .dataframe thead th {\n",
       "        text-align: right;\n",
       "    }\n",
       "</style>\n",
       "<table border=\"1\" class=\"dataframe\">\n",
       "  <thead>\n",
       "    <tr style=\"text-align: right;\">\n",
       "      <th></th>\n",
       "      <th>survived</th>\n",
       "      <th>pclass</th>\n",
       "      <th>sex</th>\n",
       "      <th>age</th>\n",
       "      <th>sibsp</th>\n",
       "      <th>parch</th>\n",
       "      <th>fare</th>\n",
       "      <th>who</th>\n",
       "      <th>adult_male</th>\n",
       "      <th>embark_town</th>\n",
       "      <th>alone</th>\n",
       "      <th>pclass_1</th>\n",
       "      <th>pclass_2</th>\n",
       "      <th>pclass_3</th>\n",
       "    </tr>\n",
       "  </thead>\n",
       "  <tbody>\n",
       "    <tr>\n",
       "      <th>73</th>\n",
       "      <td>0</td>\n",
       "      <td>3</td>\n",
       "      <td>0</td>\n",
       "      <td>26.0</td>\n",
       "      <td>1</td>\n",
       "      <td>0</td>\n",
       "      <td>14.4542</td>\n",
       "      <td>man</td>\n",
       "      <td>1</td>\n",
       "      <td>Cherbourg</td>\n",
       "      <td>0</td>\n",
       "      <td>0</td>\n",
       "      <td>0</td>\n",
       "      <td>1</td>\n",
       "    </tr>\n",
       "    <tr>\n",
       "      <th>74</th>\n",
       "      <td>1</td>\n",
       "      <td>3</td>\n",
       "      <td>0</td>\n",
       "      <td>32.0</td>\n",
       "      <td>0</td>\n",
       "      <td>0</td>\n",
       "      <td>56.4958</td>\n",
       "      <td>man</td>\n",
       "      <td>1</td>\n",
       "      <td>Southampton</td>\n",
       "      <td>1</td>\n",
       "      <td>0</td>\n",
       "      <td>0</td>\n",
       "      <td>1</td>\n",
       "    </tr>\n",
       "    <tr>\n",
       "      <th>261</th>\n",
       "      <td>1</td>\n",
       "      <td>3</td>\n",
       "      <td>0</td>\n",
       "      <td>3.0</td>\n",
       "      <td>4</td>\n",
       "      <td>2</td>\n",
       "      <td>31.3875</td>\n",
       "      <td>child</td>\n",
       "      <td>0</td>\n",
       "      <td>Southampton</td>\n",
       "      <td>0</td>\n",
       "      <td>0</td>\n",
       "      <td>0</td>\n",
       "      <td>1</td>\n",
       "    </tr>\n",
       "    <tr>\n",
       "      <th>794</th>\n",
       "      <td>0</td>\n",
       "      <td>3</td>\n",
       "      <td>0</td>\n",
       "      <td>25.0</td>\n",
       "      <td>0</td>\n",
       "      <td>0</td>\n",
       "      <td>7.8958</td>\n",
       "      <td>man</td>\n",
       "      <td>1</td>\n",
       "      <td>Southampton</td>\n",
       "      <td>1</td>\n",
       "      <td>0</td>\n",
       "      <td>0</td>\n",
       "      <td>1</td>\n",
       "    </tr>\n",
       "    <tr>\n",
       "      <th>10</th>\n",
       "      <td>1</td>\n",
       "      <td>3</td>\n",
       "      <td>1</td>\n",
       "      <td>4.0</td>\n",
       "      <td>1</td>\n",
       "      <td>1</td>\n",
       "      <td>16.7000</td>\n",
       "      <td>child</td>\n",
       "      <td>0</td>\n",
       "      <td>Southampton</td>\n",
       "      <td>0</td>\n",
       "      <td>0</td>\n",
       "      <td>0</td>\n",
       "      <td>1</td>\n",
       "    </tr>\n",
       "  </tbody>\n",
       "</table>\n",
       "</div>"
      ],
      "text/plain": [
       "     survived  pclass  sex   age  sibsp  parch     fare    who  adult_male  \\\n",
       "73          0       3    0  26.0      1      0  14.4542    man           1   \n",
       "74          1       3    0  32.0      0      0  56.4958    man           1   \n",
       "261         1       3    0   3.0      4      2  31.3875  child           0   \n",
       "794         0       3    0  25.0      0      0   7.8958    man           1   \n",
       "10          1       3    1   4.0      1      1  16.7000  child           0   \n",
       "\n",
       "     embark_town  alone  pclass_1  pclass_2  pclass_3  \n",
       "73     Cherbourg      0         0         0         1  \n",
       "74   Southampton      1         0         0         1  \n",
       "261  Southampton      0         0         0         1  \n",
       "794  Southampton      1         0         0         1  \n",
       "10   Southampton      0         0         0         1  "
      ]
     },
     "execution_count": 38,
     "metadata": {},
     "output_type": "execute_result"
    }
   ],
   "source": [
    "df_new = pd.concat([df3, pclass_dummies], axis=1)\n",
    "\n",
    "df_new.sample(n=5, random_state=1)"
   ]
  },
  {
   "cell_type": "code",
   "execution_count": 39,
   "id": "7103e30d",
   "metadata": {},
   "outputs": [
    {
     "data": {
      "text/html": [
       "<div>\n",
       "<style scoped>\n",
       "    .dataframe tbody tr th:only-of-type {\n",
       "        vertical-align: middle;\n",
       "    }\n",
       "\n",
       "    .dataframe tbody tr th {\n",
       "        vertical-align: top;\n",
       "    }\n",
       "\n",
       "    .dataframe thead th {\n",
       "        text-align: right;\n",
       "    }\n",
       "</style>\n",
       "<table border=\"1\" class=\"dataframe\">\n",
       "  <thead>\n",
       "    <tr style=\"text-align: right;\">\n",
       "      <th></th>\n",
       "      <th>who_child</th>\n",
       "      <th>who_man</th>\n",
       "      <th>who_woman</th>\n",
       "    </tr>\n",
       "  </thead>\n",
       "  <tbody>\n",
       "    <tr>\n",
       "      <th>73</th>\n",
       "      <td>0</td>\n",
       "      <td>1</td>\n",
       "      <td>0</td>\n",
       "    </tr>\n",
       "    <tr>\n",
       "      <th>74</th>\n",
       "      <td>0</td>\n",
       "      <td>1</td>\n",
       "      <td>0</td>\n",
       "    </tr>\n",
       "    <tr>\n",
       "      <th>261</th>\n",
       "      <td>1</td>\n",
       "      <td>0</td>\n",
       "      <td>0</td>\n",
       "    </tr>\n",
       "    <tr>\n",
       "      <th>794</th>\n",
       "      <td>0</td>\n",
       "      <td>1</td>\n",
       "      <td>0</td>\n",
       "    </tr>\n",
       "    <tr>\n",
       "      <th>10</th>\n",
       "      <td>1</td>\n",
       "      <td>0</td>\n",
       "      <td>0</td>\n",
       "    </tr>\n",
       "  </tbody>\n",
       "</table>\n",
       "</div>"
      ],
      "text/plain": [
       "     who_child  who_man  who_woman\n",
       "73           0        1          0\n",
       "74           0        1          0\n",
       "261          1        0          0\n",
       "794          0        1          0\n",
       "10           1        0          0"
      ]
     },
     "execution_count": 39,
     "metadata": {},
     "output_type": "execute_result"
    }
   ],
   "source": [
    "who_dummies = pd.get_dummies(df_new.who, prefix='who')\n",
    "\n",
    "who_dummies.sample(n=5, random_state=1)"
   ]
  },
  {
   "cell_type": "code",
   "execution_count": 40,
   "id": "f5ca8f40",
   "metadata": {},
   "outputs": [
    {
     "data": {
      "text/html": [
       "<div>\n",
       "<style scoped>\n",
       "    .dataframe tbody tr th:only-of-type {\n",
       "        vertical-align: middle;\n",
       "    }\n",
       "\n",
       "    .dataframe tbody tr th {\n",
       "        vertical-align: top;\n",
       "    }\n",
       "\n",
       "    .dataframe thead th {\n",
       "        text-align: right;\n",
       "    }\n",
       "</style>\n",
       "<table border=\"1\" class=\"dataframe\">\n",
       "  <thead>\n",
       "    <tr style=\"text-align: right;\">\n",
       "      <th></th>\n",
       "      <th>survived</th>\n",
       "      <th>pclass</th>\n",
       "      <th>sex</th>\n",
       "      <th>age</th>\n",
       "      <th>sibsp</th>\n",
       "      <th>parch</th>\n",
       "      <th>fare</th>\n",
       "      <th>who</th>\n",
       "      <th>adult_male</th>\n",
       "      <th>embark_town</th>\n",
       "      <th>alone</th>\n",
       "      <th>pclass_1</th>\n",
       "      <th>pclass_2</th>\n",
       "      <th>pclass_3</th>\n",
       "      <th>who_child</th>\n",
       "      <th>who_man</th>\n",
       "      <th>who_woman</th>\n",
       "    </tr>\n",
       "  </thead>\n",
       "  <tbody>\n",
       "    <tr>\n",
       "      <th>73</th>\n",
       "      <td>0</td>\n",
       "      <td>3</td>\n",
       "      <td>0</td>\n",
       "      <td>26.0</td>\n",
       "      <td>1</td>\n",
       "      <td>0</td>\n",
       "      <td>14.4542</td>\n",
       "      <td>man</td>\n",
       "      <td>1</td>\n",
       "      <td>Cherbourg</td>\n",
       "      <td>0</td>\n",
       "      <td>0</td>\n",
       "      <td>0</td>\n",
       "      <td>1</td>\n",
       "      <td>0</td>\n",
       "      <td>1</td>\n",
       "      <td>0</td>\n",
       "    </tr>\n",
       "    <tr>\n",
       "      <th>74</th>\n",
       "      <td>1</td>\n",
       "      <td>3</td>\n",
       "      <td>0</td>\n",
       "      <td>32.0</td>\n",
       "      <td>0</td>\n",
       "      <td>0</td>\n",
       "      <td>56.4958</td>\n",
       "      <td>man</td>\n",
       "      <td>1</td>\n",
       "      <td>Southampton</td>\n",
       "      <td>1</td>\n",
       "      <td>0</td>\n",
       "      <td>0</td>\n",
       "      <td>1</td>\n",
       "      <td>0</td>\n",
       "      <td>1</td>\n",
       "      <td>0</td>\n",
       "    </tr>\n",
       "    <tr>\n",
       "      <th>261</th>\n",
       "      <td>1</td>\n",
       "      <td>3</td>\n",
       "      <td>0</td>\n",
       "      <td>3.0</td>\n",
       "      <td>4</td>\n",
       "      <td>2</td>\n",
       "      <td>31.3875</td>\n",
       "      <td>child</td>\n",
       "      <td>0</td>\n",
       "      <td>Southampton</td>\n",
       "      <td>0</td>\n",
       "      <td>0</td>\n",
       "      <td>0</td>\n",
       "      <td>1</td>\n",
       "      <td>1</td>\n",
       "      <td>0</td>\n",
       "      <td>0</td>\n",
       "    </tr>\n",
       "    <tr>\n",
       "      <th>794</th>\n",
       "      <td>0</td>\n",
       "      <td>3</td>\n",
       "      <td>0</td>\n",
       "      <td>25.0</td>\n",
       "      <td>0</td>\n",
       "      <td>0</td>\n",
       "      <td>7.8958</td>\n",
       "      <td>man</td>\n",
       "      <td>1</td>\n",
       "      <td>Southampton</td>\n",
       "      <td>1</td>\n",
       "      <td>0</td>\n",
       "      <td>0</td>\n",
       "      <td>1</td>\n",
       "      <td>0</td>\n",
       "      <td>1</td>\n",
       "      <td>0</td>\n",
       "    </tr>\n",
       "    <tr>\n",
       "      <th>10</th>\n",
       "      <td>1</td>\n",
       "      <td>3</td>\n",
       "      <td>1</td>\n",
       "      <td>4.0</td>\n",
       "      <td>1</td>\n",
       "      <td>1</td>\n",
       "      <td>16.7000</td>\n",
       "      <td>child</td>\n",
       "      <td>0</td>\n",
       "      <td>Southampton</td>\n",
       "      <td>0</td>\n",
       "      <td>0</td>\n",
       "      <td>0</td>\n",
       "      <td>1</td>\n",
       "      <td>1</td>\n",
       "      <td>0</td>\n",
       "      <td>0</td>\n",
       "    </tr>\n",
       "  </tbody>\n",
       "</table>\n",
       "</div>"
      ],
      "text/plain": [
       "     survived  pclass  sex   age  sibsp  parch     fare    who  adult_male  \\\n",
       "73          0       3    0  26.0      1      0  14.4542    man           1   \n",
       "74          1       3    0  32.0      0      0  56.4958    man           1   \n",
       "261         1       3    0   3.0      4      2  31.3875  child           0   \n",
       "794         0       3    0  25.0      0      0   7.8958    man           1   \n",
       "10          1       3    1   4.0      1      1  16.7000  child           0   \n",
       "\n",
       "     embark_town  alone  pclass_1  pclass_2  pclass_3  who_child  who_man  \\\n",
       "73     Cherbourg      0         0         0         1          0        1   \n",
       "74   Southampton      1         0         0         1          0        1   \n",
       "261  Southampton      0         0         0         1          1        0   \n",
       "794  Southampton      1         0         0         1          0        1   \n",
       "10   Southampton      0         0         0         1          1        0   \n",
       "\n",
       "     who_woman  \n",
       "73           0  \n",
       "74           0  \n",
       "261          0  \n",
       "794          0  \n",
       "10           0  "
      ]
     },
     "execution_count": 40,
     "metadata": {},
     "output_type": "execute_result"
    }
   ],
   "source": [
    "df_new2 = pd.concat([df_new, who_dummies], axis=1)\n",
    "\n",
    "df_new2.sample(n=5, random_state=1)"
   ]
  },
  {
   "cell_type": "code",
   "execution_count": 41,
   "id": "c4a8bb29",
   "metadata": {},
   "outputs": [
    {
     "data": {
      "text/html": [
       "<div>\n",
       "<style scoped>\n",
       "    .dataframe tbody tr th:only-of-type {\n",
       "        vertical-align: middle;\n",
       "    }\n",
       "\n",
       "    .dataframe tbody tr th {\n",
       "        vertical-align: top;\n",
       "    }\n",
       "\n",
       "    .dataframe thead th {\n",
       "        text-align: right;\n",
       "    }\n",
       "</style>\n",
       "<table border=\"1\" class=\"dataframe\">\n",
       "  <thead>\n",
       "    <tr style=\"text-align: right;\">\n",
       "      <th></th>\n",
       "      <th>embark_town_Cherbourg</th>\n",
       "      <th>embark_town_Queenstown</th>\n",
       "      <th>embark_town_Southampton</th>\n",
       "    </tr>\n",
       "  </thead>\n",
       "  <tbody>\n",
       "    <tr>\n",
       "      <th>73</th>\n",
       "      <td>1</td>\n",
       "      <td>0</td>\n",
       "      <td>0</td>\n",
       "    </tr>\n",
       "    <tr>\n",
       "      <th>74</th>\n",
       "      <td>0</td>\n",
       "      <td>0</td>\n",
       "      <td>1</td>\n",
       "    </tr>\n",
       "    <tr>\n",
       "      <th>261</th>\n",
       "      <td>0</td>\n",
       "      <td>0</td>\n",
       "      <td>1</td>\n",
       "    </tr>\n",
       "    <tr>\n",
       "      <th>794</th>\n",
       "      <td>0</td>\n",
       "      <td>0</td>\n",
       "      <td>1</td>\n",
       "    </tr>\n",
       "    <tr>\n",
       "      <th>10</th>\n",
       "      <td>0</td>\n",
       "      <td>0</td>\n",
       "      <td>1</td>\n",
       "    </tr>\n",
       "  </tbody>\n",
       "</table>\n",
       "</div>"
      ],
      "text/plain": [
       "     embark_town_Cherbourg  embark_town_Queenstown  embark_town_Southampton\n",
       "73                       1                       0                        0\n",
       "74                       0                       0                        1\n",
       "261                      0                       0                        1\n",
       "794                      0                       0                        1\n",
       "10                       0                       0                        1"
      ]
     },
     "execution_count": 41,
     "metadata": {},
     "output_type": "execute_result"
    }
   ],
   "source": [
    "embark_town_dummies = pd.get_dummies(df_new2.embark_town, prefix='embark_town')\n",
    "\n",
    "embark_town_dummies.sample(n=5, random_state=1)"
   ]
  },
  {
   "cell_type": "code",
   "execution_count": 42,
   "id": "d416dc87",
   "metadata": {},
   "outputs": [
    {
     "data": {
      "text/html": [
       "<div>\n",
       "<style scoped>\n",
       "    .dataframe tbody tr th:only-of-type {\n",
       "        vertical-align: middle;\n",
       "    }\n",
       "\n",
       "    .dataframe tbody tr th {\n",
       "        vertical-align: top;\n",
       "    }\n",
       "\n",
       "    .dataframe thead th {\n",
       "        text-align: right;\n",
       "    }\n",
       "</style>\n",
       "<table border=\"1\" class=\"dataframe\">\n",
       "  <thead>\n",
       "    <tr style=\"text-align: right;\">\n",
       "      <th></th>\n",
       "      <th>survived</th>\n",
       "      <th>pclass</th>\n",
       "      <th>sex</th>\n",
       "      <th>age</th>\n",
       "      <th>sibsp</th>\n",
       "      <th>parch</th>\n",
       "      <th>fare</th>\n",
       "      <th>who</th>\n",
       "      <th>adult_male</th>\n",
       "      <th>embark_town</th>\n",
       "      <th>alone</th>\n",
       "      <th>pclass_1</th>\n",
       "      <th>pclass_2</th>\n",
       "      <th>pclass_3</th>\n",
       "      <th>who_child</th>\n",
       "      <th>who_man</th>\n",
       "      <th>who_woman</th>\n",
       "      <th>embark_town_Cherbourg</th>\n",
       "      <th>embark_town_Queenstown</th>\n",
       "      <th>embark_town_Southampton</th>\n",
       "    </tr>\n",
       "  </thead>\n",
       "  <tbody>\n",
       "    <tr>\n",
       "      <th>73</th>\n",
       "      <td>0</td>\n",
       "      <td>3</td>\n",
       "      <td>0</td>\n",
       "      <td>26.0</td>\n",
       "      <td>1</td>\n",
       "      <td>0</td>\n",
       "      <td>14.4542</td>\n",
       "      <td>man</td>\n",
       "      <td>1</td>\n",
       "      <td>Cherbourg</td>\n",
       "      <td>0</td>\n",
       "      <td>0</td>\n",
       "      <td>0</td>\n",
       "      <td>1</td>\n",
       "      <td>0</td>\n",
       "      <td>1</td>\n",
       "      <td>0</td>\n",
       "      <td>1</td>\n",
       "      <td>0</td>\n",
       "      <td>0</td>\n",
       "    </tr>\n",
       "    <tr>\n",
       "      <th>74</th>\n",
       "      <td>1</td>\n",
       "      <td>3</td>\n",
       "      <td>0</td>\n",
       "      <td>32.0</td>\n",
       "      <td>0</td>\n",
       "      <td>0</td>\n",
       "      <td>56.4958</td>\n",
       "      <td>man</td>\n",
       "      <td>1</td>\n",
       "      <td>Southampton</td>\n",
       "      <td>1</td>\n",
       "      <td>0</td>\n",
       "      <td>0</td>\n",
       "      <td>1</td>\n",
       "      <td>0</td>\n",
       "      <td>1</td>\n",
       "      <td>0</td>\n",
       "      <td>0</td>\n",
       "      <td>0</td>\n",
       "      <td>1</td>\n",
       "    </tr>\n",
       "    <tr>\n",
       "      <th>261</th>\n",
       "      <td>1</td>\n",
       "      <td>3</td>\n",
       "      <td>0</td>\n",
       "      <td>3.0</td>\n",
       "      <td>4</td>\n",
       "      <td>2</td>\n",
       "      <td>31.3875</td>\n",
       "      <td>child</td>\n",
       "      <td>0</td>\n",
       "      <td>Southampton</td>\n",
       "      <td>0</td>\n",
       "      <td>0</td>\n",
       "      <td>0</td>\n",
       "      <td>1</td>\n",
       "      <td>1</td>\n",
       "      <td>0</td>\n",
       "      <td>0</td>\n",
       "      <td>0</td>\n",
       "      <td>0</td>\n",
       "      <td>1</td>\n",
       "    </tr>\n",
       "    <tr>\n",
       "      <th>794</th>\n",
       "      <td>0</td>\n",
       "      <td>3</td>\n",
       "      <td>0</td>\n",
       "      <td>25.0</td>\n",
       "      <td>0</td>\n",
       "      <td>0</td>\n",
       "      <td>7.8958</td>\n",
       "      <td>man</td>\n",
       "      <td>1</td>\n",
       "      <td>Southampton</td>\n",
       "      <td>1</td>\n",
       "      <td>0</td>\n",
       "      <td>0</td>\n",
       "      <td>1</td>\n",
       "      <td>0</td>\n",
       "      <td>1</td>\n",
       "      <td>0</td>\n",
       "      <td>0</td>\n",
       "      <td>0</td>\n",
       "      <td>1</td>\n",
       "    </tr>\n",
       "    <tr>\n",
       "      <th>10</th>\n",
       "      <td>1</td>\n",
       "      <td>3</td>\n",
       "      <td>1</td>\n",
       "      <td>4.0</td>\n",
       "      <td>1</td>\n",
       "      <td>1</td>\n",
       "      <td>16.7000</td>\n",
       "      <td>child</td>\n",
       "      <td>0</td>\n",
       "      <td>Southampton</td>\n",
       "      <td>0</td>\n",
       "      <td>0</td>\n",
       "      <td>0</td>\n",
       "      <td>1</td>\n",
       "      <td>1</td>\n",
       "      <td>0</td>\n",
       "      <td>0</td>\n",
       "      <td>0</td>\n",
       "      <td>0</td>\n",
       "      <td>1</td>\n",
       "    </tr>\n",
       "  </tbody>\n",
       "</table>\n",
       "</div>"
      ],
      "text/plain": [
       "     survived  pclass  sex   age  sibsp  parch     fare    who  adult_male  \\\n",
       "73          0       3    0  26.0      1      0  14.4542    man           1   \n",
       "74          1       3    0  32.0      0      0  56.4958    man           1   \n",
       "261         1       3    0   3.0      4      2  31.3875  child           0   \n",
       "794         0       3    0  25.0      0      0   7.8958    man           1   \n",
       "10          1       3    1   4.0      1      1  16.7000  child           0   \n",
       "\n",
       "     embark_town  alone  pclass_1  pclass_2  pclass_3  who_child  who_man  \\\n",
       "73     Cherbourg      0         0         0         1          0        1   \n",
       "74   Southampton      1         0         0         1          0        1   \n",
       "261  Southampton      0         0         0         1          1        0   \n",
       "794  Southampton      1         0         0         1          0        1   \n",
       "10   Southampton      0         0         0         1          1        0   \n",
       "\n",
       "     who_woman  embark_town_Cherbourg  embark_town_Queenstown  \\\n",
       "73           0                      1                       0   \n",
       "74           0                      0                       0   \n",
       "261          0                      0                       0   \n",
       "794          0                      0                       0   \n",
       "10           0                      0                       0   \n",
       "\n",
       "     embark_town_Southampton  \n",
       "73                         0  \n",
       "74                         1  \n",
       "261                        1  \n",
       "794                        1  \n",
       "10                         1  "
      ]
     },
     "execution_count": 42,
     "metadata": {},
     "output_type": "execute_result"
    }
   ],
   "source": [
    "df_new3 = pd.concat([df_new2, embark_town_dummies], axis=1)\n",
    "\n",
    "df_new3.sample(n=5, random_state=1)"
   ]
  },
  {
   "cell_type": "markdown",
   "id": "21f5e6c1",
   "metadata": {},
   "source": [
    "Now we have dummy encoded certain columns we need to remove the original columns."
   ]
  },
  {
   "cell_type": "code",
   "execution_count": 43,
   "id": "d04573c0",
   "metadata": {},
   "outputs": [],
   "source": [
    "df_new3.drop(columns=['pclass', 'who', 'embark_town'], inplace=True)"
   ]
  },
  {
   "cell_type": "markdown",
   "id": "9652c0b8",
   "metadata": {},
   "source": [
    "Let's look at correlations. "
   ]
  },
  {
   "cell_type": "code",
   "execution_count": 44,
   "id": "16257f18",
   "metadata": {},
   "outputs": [
    {
     "data": {
      "text/html": [
       "<div>\n",
       "<style scoped>\n",
       "    .dataframe tbody tr th:only-of-type {\n",
       "        vertical-align: middle;\n",
       "    }\n",
       "\n",
       "    .dataframe tbody tr th {\n",
       "        vertical-align: top;\n",
       "    }\n",
       "\n",
       "    .dataframe thead th {\n",
       "        text-align: right;\n",
       "    }\n",
       "</style>\n",
       "<table border=\"1\" class=\"dataframe\">\n",
       "  <thead>\n",
       "    <tr style=\"text-align: right;\">\n",
       "      <th></th>\n",
       "      <th>survived</th>\n",
       "      <th>sex</th>\n",
       "      <th>age</th>\n",
       "      <th>sibsp</th>\n",
       "      <th>parch</th>\n",
       "      <th>fare</th>\n",
       "      <th>adult_male</th>\n",
       "      <th>alone</th>\n",
       "      <th>pclass_1</th>\n",
       "      <th>pclass_2</th>\n",
       "      <th>pclass_3</th>\n",
       "      <th>who_child</th>\n",
       "      <th>who_man</th>\n",
       "      <th>who_woman</th>\n",
       "      <th>embark_town_Cherbourg</th>\n",
       "      <th>embark_town_Queenstown</th>\n",
       "      <th>embark_town_Southampton</th>\n",
       "    </tr>\n",
       "  </thead>\n",
       "  <tbody>\n",
       "    <tr>\n",
       "      <th>survived</th>\n",
       "      <td>1.000000</td>\n",
       "      <td>0.510246</td>\n",
       "      <td>-0.065202</td>\n",
       "      <td>0.004221</td>\n",
       "      <td>0.079950</td>\n",
       "      <td>0.260557</td>\n",
       "      <td>-0.509719</td>\n",
       "      <td>-0.181697</td>\n",
       "      <td>0.190693</td>\n",
       "      <td>0.159077</td>\n",
       "      <td>-0.273426</td>\n",
       "      <td>0.126709</td>\n",
       "      <td>-0.509719</td>\n",
       "      <td>0.469201</td>\n",
       "      <td>0.088271</td>\n",
       "      <td>0.049935</td>\n",
       "      <td>-0.107121</td>\n",
       "    </tr>\n",
       "    <tr>\n",
       "      <th>sex</th>\n",
       "      <td>0.510246</td>\n",
       "      <td>1.000000</td>\n",
       "      <td>-0.095276</td>\n",
       "      <td>0.157456</td>\n",
       "      <td>0.295532</td>\n",
       "      <td>0.164606</td>\n",
       "      <td>-0.928177</td>\n",
       "      <td>-0.341287</td>\n",
       "      <td>-0.038991</td>\n",
       "      <td>0.145047</td>\n",
       "      <td>-0.099245</td>\n",
       "      <td>0.149804</td>\n",
       "      <td>-0.928177</td>\n",
       "      <td>0.902377</td>\n",
       "      <td>0.028306</td>\n",
       "      <td>0.122227</td>\n",
       "      <td>-0.108025</td>\n",
       "    </tr>\n",
       "    <tr>\n",
       "      <th>age</th>\n",
       "      <td>-0.065202</td>\n",
       "      <td>-0.095276</td>\n",
       "      <td>1.000000</td>\n",
       "      <td>-0.291564</td>\n",
       "      <td>-0.134218</td>\n",
       "      <td>0.092716</td>\n",
       "      <td>0.236474</td>\n",
       "      <td>0.160001</td>\n",
       "      <td>0.267064</td>\n",
       "      <td>0.070914</td>\n",
       "      <td>-0.250236</td>\n",
       "      <td>-0.579778</td>\n",
       "      <td>0.236474</td>\n",
       "      <td>0.091223</td>\n",
       "      <td>-0.025707</td>\n",
       "      <td>-0.023907</td>\n",
       "      <td>0.037692</td>\n",
       "    </tr>\n",
       "    <tr>\n",
       "      <th>sibsp</th>\n",
       "      <td>0.004221</td>\n",
       "      <td>0.157456</td>\n",
       "      <td>-0.291564</td>\n",
       "      <td>1.000000</td>\n",
       "      <td>0.392674</td>\n",
       "      <td>0.370951</td>\n",
       "      <td>-0.327212</td>\n",
       "      <td>-0.671161</td>\n",
       "      <td>-0.069183</td>\n",
       "      <td>-0.027185</td>\n",
       "      <td>0.072525</td>\n",
       "      <td>0.478770</td>\n",
       "      <td>-0.327212</td>\n",
       "      <td>0.065563</td>\n",
       "      <td>-0.048584</td>\n",
       "      <td>-0.018786</td>\n",
       "      <td>0.052926</td>\n",
       "    </tr>\n",
       "    <tr>\n",
       "      <th>parch</th>\n",
       "      <td>0.079950</td>\n",
       "      <td>0.295532</td>\n",
       "      <td>-0.134218</td>\n",
       "      <td>0.392674</td>\n",
       "      <td>1.000000</td>\n",
       "      <td>0.335415</td>\n",
       "      <td>-0.374004</td>\n",
       "      <td>-0.566367</td>\n",
       "      <td>-0.086906</td>\n",
       "      <td>0.029397</td>\n",
       "      <td>0.035582</td>\n",
       "      <td>0.313138</td>\n",
       "      <td>-0.374004</td>\n",
       "      <td>0.213736</td>\n",
       "      <td>0.000339</td>\n",
       "      <td>-0.064652</td>\n",
       "      <td>0.044567</td>\n",
       "    </tr>\n",
       "    <tr>\n",
       "      <th>fare</th>\n",
       "      <td>0.260557</td>\n",
       "      <td>0.164606</td>\n",
       "      <td>0.092716</td>\n",
       "      <td>0.370951</td>\n",
       "      <td>0.335415</td>\n",
       "      <td>1.000000</td>\n",
       "      <td>-0.210872</td>\n",
       "      <td>-0.479910</td>\n",
       "      <td>0.588229</td>\n",
       "      <td>0.065741</td>\n",
       "      <td>-0.472131</td>\n",
       "      <td>0.148552</td>\n",
       "      <td>-0.210872</td>\n",
       "      <td>0.137112</td>\n",
       "      <td>0.098557</td>\n",
       "      <td>-0.154345</td>\n",
       "      <td>0.026127</td>\n",
       "    </tr>\n",
       "    <tr>\n",
       "      <th>adult_male</th>\n",
       "      <td>-0.509719</td>\n",
       "      <td>-0.928177</td>\n",
       "      <td>0.236474</td>\n",
       "      <td>-0.327212</td>\n",
       "      <td>-0.374004</td>\n",
       "      <td>-0.210872</td>\n",
       "      <td>1.000000</td>\n",
       "      <td>0.423133</td>\n",
       "      <td>0.065176</td>\n",
       "      <td>-0.124546</td>\n",
       "      <td>0.062871</td>\n",
       "      <td>-0.388479</td>\n",
       "      <td>1.000000</td>\n",
       "      <td>-0.837566</td>\n",
       "      <td>-0.023554</td>\n",
       "      <td>-0.125489</td>\n",
       "      <td>0.106386</td>\n",
       "    </tr>\n",
       "    <tr>\n",
       "      <th>alone</th>\n",
       "      <td>-0.181697</td>\n",
       "      <td>-0.341287</td>\n",
       "      <td>0.160001</td>\n",
       "      <td>-0.671161</td>\n",
       "      <td>-0.566367</td>\n",
       "      <td>-0.479910</td>\n",
       "      <td>0.423133</td>\n",
       "      <td>1.000000</td>\n",
       "      <td>-0.011422</td>\n",
       "      <td>-0.087687</td>\n",
       "      <td>0.084668</td>\n",
       "      <td>-0.330876</td>\n",
       "      <td>0.423133</td>\n",
       "      <td>-0.255685</td>\n",
       "      <td>-0.065255</td>\n",
       "      <td>0.072727</td>\n",
       "      <td>0.003139</td>\n",
       "    </tr>\n",
       "    <tr>\n",
       "      <th>pclass_1</th>\n",
       "      <td>0.190693</td>\n",
       "      <td>-0.038991</td>\n",
       "      <td>0.267064</td>\n",
       "      <td>-0.069183</td>\n",
       "      <td>-0.086906</td>\n",
       "      <td>0.588229</td>\n",
       "      <td>0.065176</td>\n",
       "      <td>-0.011422</td>\n",
       "      <td>1.000000</td>\n",
       "      <td>-0.211382</td>\n",
       "      <td>-0.520290</td>\n",
       "      <td>-0.111949</td>\n",
       "      <td>0.065176</td>\n",
       "      <td>-0.003227</td>\n",
       "      <td>0.153047</td>\n",
       "      <td>-0.128750</td>\n",
       "      <td>-0.036371</td>\n",
       "    </tr>\n",
       "    <tr>\n",
       "      <th>pclass_2</th>\n",
       "      <td>0.159077</td>\n",
       "      <td>0.145047</td>\n",
       "      <td>0.070914</td>\n",
       "      <td>-0.027185</td>\n",
       "      <td>0.029397</td>\n",
       "      <td>0.065741</td>\n",
       "      <td>-0.124546</td>\n",
       "      <td>-0.087687</td>\n",
       "      <td>-0.211382</td>\n",
       "      <td>1.000000</td>\n",
       "      <td>-0.724712</td>\n",
       "      <td>-0.006362</td>\n",
       "      <td>-0.124546</td>\n",
       "      <td>0.136774</td>\n",
       "      <td>-0.073947</td>\n",
       "      <td>-0.157127</td>\n",
       "      <td>0.169711</td>\n",
       "    </tr>\n",
       "    <tr>\n",
       "      <th>pclass_3</th>\n",
       "      <td>-0.273426</td>\n",
       "      <td>-0.099245</td>\n",
       "      <td>-0.250236</td>\n",
       "      <td>0.072525</td>\n",
       "      <td>0.035582</td>\n",
       "      <td>-0.472131</td>\n",
       "      <td>0.062871</td>\n",
       "      <td>0.084668</td>\n",
       "      <td>-0.520290</td>\n",
       "      <td>-0.724712</td>\n",
       "      <td>1.000000</td>\n",
       "      <td>0.084480</td>\n",
       "      <td>0.062871</td>\n",
       "      <td>-0.117229</td>\n",
       "      <td>-0.043285</td>\n",
       "      <td>0.228053</td>\n",
       "      <td>-0.122641</td>\n",
       "    </tr>\n",
       "    <tr>\n",
       "      <th>who_child</th>\n",
       "      <td>0.126709</td>\n",
       "      <td>0.149804</td>\n",
       "      <td>-0.579778</td>\n",
       "      <td>0.478770</td>\n",
       "      <td>0.313138</td>\n",
       "      <td>0.148552</td>\n",
       "      <td>-0.388479</td>\n",
       "      <td>-0.330876</td>\n",
       "      <td>-0.111949</td>\n",
       "      <td>-0.006362</td>\n",
       "      <td>0.084480</td>\n",
       "      <td>1.000000</td>\n",
       "      <td>-0.388479</td>\n",
       "      <td>-0.178049</td>\n",
       "      <td>0.073919</td>\n",
       "      <td>-0.024833</td>\n",
       "      <td>-0.043475</td>\n",
       "    </tr>\n",
       "    <tr>\n",
       "      <th>who_man</th>\n",
       "      <td>-0.509719</td>\n",
       "      <td>-0.928177</td>\n",
       "      <td>0.236474</td>\n",
       "      <td>-0.327212</td>\n",
       "      <td>-0.374004</td>\n",
       "      <td>-0.210872</td>\n",
       "      <td>1.000000</td>\n",
       "      <td>0.423133</td>\n",
       "      <td>0.065176</td>\n",
       "      <td>-0.124546</td>\n",
       "      <td>0.062871</td>\n",
       "      <td>-0.388479</td>\n",
       "      <td>1.000000</td>\n",
       "      <td>-0.837566</td>\n",
       "      <td>-0.023554</td>\n",
       "      <td>-0.125489</td>\n",
       "      <td>0.106386</td>\n",
       "    </tr>\n",
       "    <tr>\n",
       "      <th>who_woman</th>\n",
       "      <td>0.469201</td>\n",
       "      <td>0.902377</td>\n",
       "      <td>0.091223</td>\n",
       "      <td>0.065563</td>\n",
       "      <td>0.213736</td>\n",
       "      <td>0.137112</td>\n",
       "      <td>-0.837566</td>\n",
       "      <td>-0.255685</td>\n",
       "      <td>-0.003227</td>\n",
       "      <td>0.136774</td>\n",
       "      <td>-0.117229</td>\n",
       "      <td>-0.178049</td>\n",
       "      <td>-0.837566</td>\n",
       "      <td>1.000000</td>\n",
       "      <td>-0.018673</td>\n",
       "      <td>0.148733</td>\n",
       "      <td>-0.087833</td>\n",
       "    </tr>\n",
       "    <tr>\n",
       "      <th>embark_town_Cherbourg</th>\n",
       "      <td>0.088271</td>\n",
       "      <td>0.028306</td>\n",
       "      <td>-0.025707</td>\n",
       "      <td>-0.048584</td>\n",
       "      <td>0.000339</td>\n",
       "      <td>0.098557</td>\n",
       "      <td>-0.023554</td>\n",
       "      <td>-0.065255</td>\n",
       "      <td>0.153047</td>\n",
       "      <td>-0.073947</td>\n",
       "      <td>-0.043285</td>\n",
       "      <td>0.073919</td>\n",
       "      <td>-0.023554</td>\n",
       "      <td>-0.018673</td>\n",
       "      <td>1.000000</td>\n",
       "      <td>-0.136451</td>\n",
       "      <td>-0.726518</td>\n",
       "    </tr>\n",
       "    <tr>\n",
       "      <th>embark_town_Queenstown</th>\n",
       "      <td>0.049935</td>\n",
       "      <td>0.122227</td>\n",
       "      <td>-0.023907</td>\n",
       "      <td>-0.018786</td>\n",
       "      <td>-0.064652</td>\n",
       "      <td>-0.154345</td>\n",
       "      <td>-0.125489</td>\n",
       "      <td>0.072727</td>\n",
       "      <td>-0.128750</td>\n",
       "      <td>-0.157127</td>\n",
       "      <td>0.228053</td>\n",
       "      <td>-0.024833</td>\n",
       "      <td>-0.125489</td>\n",
       "      <td>0.148733</td>\n",
       "      <td>-0.136451</td>\n",
       "      <td>1.000000</td>\n",
       "      <td>-0.581587</td>\n",
       "    </tr>\n",
       "    <tr>\n",
       "      <th>embark_town_Southampton</th>\n",
       "      <td>-0.107121</td>\n",
       "      <td>-0.108025</td>\n",
       "      <td>0.037692</td>\n",
       "      <td>0.052926</td>\n",
       "      <td>0.044567</td>\n",
       "      <td>0.026127</td>\n",
       "      <td>0.106386</td>\n",
       "      <td>0.003139</td>\n",
       "      <td>-0.036371</td>\n",
       "      <td>0.169711</td>\n",
       "      <td>-0.122641</td>\n",
       "      <td>-0.043475</td>\n",
       "      <td>0.106386</td>\n",
       "      <td>-0.087833</td>\n",
       "      <td>-0.726518</td>\n",
       "      <td>-0.581587</td>\n",
       "      <td>1.000000</td>\n",
       "    </tr>\n",
       "  </tbody>\n",
       "</table>\n",
       "</div>"
      ],
      "text/plain": [
       "                         survived       sex       age     sibsp     parch  \\\n",
       "survived                 1.000000  0.510246 -0.065202  0.004221  0.079950   \n",
       "sex                      0.510246  1.000000 -0.095276  0.157456  0.295532   \n",
       "age                     -0.065202 -0.095276  1.000000 -0.291564 -0.134218   \n",
       "sibsp                    0.004221  0.157456 -0.291564  1.000000  0.392674   \n",
       "parch                    0.079950  0.295532 -0.134218  0.392674  1.000000   \n",
       "fare                     0.260557  0.164606  0.092716  0.370951  0.335415   \n",
       "adult_male              -0.509719 -0.928177  0.236474 -0.327212 -0.374004   \n",
       "alone                   -0.181697 -0.341287  0.160001 -0.671161 -0.566367   \n",
       "pclass_1                 0.190693 -0.038991  0.267064 -0.069183 -0.086906   \n",
       "pclass_2                 0.159077  0.145047  0.070914 -0.027185  0.029397   \n",
       "pclass_3                -0.273426 -0.099245 -0.250236  0.072525  0.035582   \n",
       "who_child                0.126709  0.149804 -0.579778  0.478770  0.313138   \n",
       "who_man                 -0.509719 -0.928177  0.236474 -0.327212 -0.374004   \n",
       "who_woman                0.469201  0.902377  0.091223  0.065563  0.213736   \n",
       "embark_town_Cherbourg    0.088271  0.028306 -0.025707 -0.048584  0.000339   \n",
       "embark_town_Queenstown   0.049935  0.122227 -0.023907 -0.018786 -0.064652   \n",
       "embark_town_Southampton -0.107121 -0.108025  0.037692  0.052926  0.044567   \n",
       "\n",
       "                             fare  adult_male     alone  pclass_1  pclass_2  \\\n",
       "survived                 0.260557   -0.509719 -0.181697  0.190693  0.159077   \n",
       "sex                      0.164606   -0.928177 -0.341287 -0.038991  0.145047   \n",
       "age                      0.092716    0.236474  0.160001  0.267064  0.070914   \n",
       "sibsp                    0.370951   -0.327212 -0.671161 -0.069183 -0.027185   \n",
       "parch                    0.335415   -0.374004 -0.566367 -0.086906  0.029397   \n",
       "fare                     1.000000   -0.210872 -0.479910  0.588229  0.065741   \n",
       "adult_male              -0.210872    1.000000  0.423133  0.065176 -0.124546   \n",
       "alone                   -0.479910    0.423133  1.000000 -0.011422 -0.087687   \n",
       "pclass_1                 0.588229    0.065176 -0.011422  1.000000 -0.211382   \n",
       "pclass_2                 0.065741   -0.124546 -0.087687 -0.211382  1.000000   \n",
       "pclass_3                -0.472131    0.062871  0.084668 -0.520290 -0.724712   \n",
       "who_child                0.148552   -0.388479 -0.330876 -0.111949 -0.006362   \n",
       "who_man                 -0.210872    1.000000  0.423133  0.065176 -0.124546   \n",
       "who_woman                0.137112   -0.837566 -0.255685 -0.003227  0.136774   \n",
       "embark_town_Cherbourg    0.098557   -0.023554 -0.065255  0.153047 -0.073947   \n",
       "embark_town_Queenstown  -0.154345   -0.125489  0.072727 -0.128750 -0.157127   \n",
       "embark_town_Southampton  0.026127    0.106386  0.003139 -0.036371  0.169711   \n",
       "\n",
       "                         pclass_3  who_child   who_man  who_woman  \\\n",
       "survived                -0.273426   0.126709 -0.509719   0.469201   \n",
       "sex                     -0.099245   0.149804 -0.928177   0.902377   \n",
       "age                     -0.250236  -0.579778  0.236474   0.091223   \n",
       "sibsp                    0.072525   0.478770 -0.327212   0.065563   \n",
       "parch                    0.035582   0.313138 -0.374004   0.213736   \n",
       "fare                    -0.472131   0.148552 -0.210872   0.137112   \n",
       "adult_male               0.062871  -0.388479  1.000000  -0.837566   \n",
       "alone                    0.084668  -0.330876  0.423133  -0.255685   \n",
       "pclass_1                -0.520290  -0.111949  0.065176  -0.003227   \n",
       "pclass_2                -0.724712  -0.006362 -0.124546   0.136774   \n",
       "pclass_3                 1.000000   0.084480  0.062871  -0.117229   \n",
       "who_child                0.084480   1.000000 -0.388479  -0.178049   \n",
       "who_man                  0.062871  -0.388479  1.000000  -0.837566   \n",
       "who_woman               -0.117229  -0.178049 -0.837566   1.000000   \n",
       "embark_town_Cherbourg   -0.043285   0.073919 -0.023554  -0.018673   \n",
       "embark_town_Queenstown   0.228053  -0.024833 -0.125489   0.148733   \n",
       "embark_town_Southampton -0.122641  -0.043475  0.106386  -0.087833   \n",
       "\n",
       "                         embark_town_Cherbourg  embark_town_Queenstown  \\\n",
       "survived                              0.088271                0.049935   \n",
       "sex                                   0.028306                0.122227   \n",
       "age                                  -0.025707               -0.023907   \n",
       "sibsp                                -0.048584               -0.018786   \n",
       "parch                                 0.000339               -0.064652   \n",
       "fare                                  0.098557               -0.154345   \n",
       "adult_male                           -0.023554               -0.125489   \n",
       "alone                                -0.065255                0.072727   \n",
       "pclass_1                              0.153047               -0.128750   \n",
       "pclass_2                             -0.073947               -0.157127   \n",
       "pclass_3                             -0.043285                0.228053   \n",
       "who_child                             0.073919               -0.024833   \n",
       "who_man                              -0.023554               -0.125489   \n",
       "who_woman                            -0.018673                0.148733   \n",
       "embark_town_Cherbourg                 1.000000               -0.136451   \n",
       "embark_town_Queenstown               -0.136451                1.000000   \n",
       "embark_town_Southampton              -0.726518               -0.581587   \n",
       "\n",
       "                         embark_town_Southampton  \n",
       "survived                               -0.107121  \n",
       "sex                                    -0.108025  \n",
       "age                                     0.037692  \n",
       "sibsp                                   0.052926  \n",
       "parch                                   0.044567  \n",
       "fare                                    0.026127  \n",
       "adult_male                              0.106386  \n",
       "alone                                   0.003139  \n",
       "pclass_1                               -0.036371  \n",
       "pclass_2                                0.169711  \n",
       "pclass_3                               -0.122641  \n",
       "who_child                              -0.043475  \n",
       "who_man                                 0.106386  \n",
       "who_woman                              -0.087833  \n",
       "embark_town_Cherbourg                  -0.726518  \n",
       "embark_town_Queenstown                 -0.581587  \n",
       "embark_town_Southampton                 1.000000  "
      ]
     },
     "execution_count": 44,
     "metadata": {},
     "output_type": "execute_result"
    }
   ],
   "source": [
    "df_new3.corr()"
   ]
  },
  {
   "cell_type": "markdown",
   "id": "8b145dfc",
   "metadata": {},
   "source": [
    "The highest positive correlation with survived is sex and the highest negative correlation is adult male (same as who_man). Some correlation with fare and pclass to look at as well. Let's visualize the relationships. "
   ]
  },
  {
   "cell_type": "code",
   "execution_count": 45,
   "id": "75f547e4",
   "metadata": {},
   "outputs": [
    {
     "data": {
      "text/plain": [
       "<AxesSubplot:xlabel='survived', ylabel='fare'>"
      ]
     },
     "execution_count": 45,
     "metadata": {},
     "output_type": "execute_result"
    },
    {
     "data": {
      "image/png": "[encoded data removed]",
      "text/plain": [
       "<Figure size 432x288 with 1 Axes>"
      ]
     },
     "metadata": {
      "needs_background": "light"
     },
     "output_type": "display_data"
    }
   ],
   "source": [
    "sns.boxplot(data = df_new3, x = 'survived',y = 'fare')"
   ]
  },
  {
   "cell_type": "markdown",
   "id": "a059bd02",
   "metadata": {},
   "source": [
    "The distributions do cross over but survived tend to have higher fares. Maybe include. What is the p-value??"
   ]
  },
  {
   "cell_type": "code",
   "execution_count": 46,
   "id": "7c63a926",
   "metadata": {},
   "outputs": [],
   "source": [
    "from scipy import stats"
   ]
  },
  {
   "cell_type": "code",
   "execution_count": 47,
   "id": "262b14fc",
   "metadata": {},
   "outputs": [
    {
     "name": "stdout",
     "output_type": "stream",
     "text": [
      "The Pearson Correlation Coefficient is 0.26055683253477435  with a P-value of P = 1.1832638962059915e-12\n"
     ]
    }
   ],
   "source": [
    "pearson_coef, p_value = stats.pearsonr(df_new3['fare'], df_new3 ['survived'])\n",
    "print(\"The Pearson Correlation Coefficient is\", pearson_coef, \" with a P-value of P =\", p_value)  "
   ]
  },
  {
   "cell_type": "markdown",
   "id": "5d25ab00",
   "metadata": {},
   "source": [
    "Low p-value, statistically significant, but weak relationship, include in model. "
   ]
  },
  {
   "cell_type": "markdown",
   "id": "1c427f7e",
   "metadata": {},
   "source": [
    "Others are more difficult to visualise because there are two lots of categorical variables. Let's try using group by instead. "
   ]
  },
  {
   "cell_type": "code",
   "execution_count": 48,
   "id": "9e435fc3",
   "metadata": {},
   "outputs": [],
   "source": [
    "df_group_one=df_new3[['survived', 'sex']]"
   ]
  },
  {
   "cell_type": "code",
   "execution_count": 49,
   "id": "6fe8742c",
   "metadata": {},
   "outputs": [
    {
     "data": {
      "text/html": [
       "<div>\n",
       "<style scoped>\n",
       "    .dataframe tbody tr th:only-of-type {\n",
       "        vertical-align: middle;\n",
       "    }\n",
       "\n",
       "    .dataframe tbody tr th {\n",
       "        vertical-align: top;\n",
       "    }\n",
       "\n",
       "    .dataframe thead th {\n",
       "        text-align: right;\n",
       "    }\n",
       "</style>\n",
       "<table border=\"1\" class=\"dataframe\">\n",
       "  <thead>\n",
       "    <tr style=\"text-align: right;\">\n",
       "      <th></th>\n",
       "      <th>sex</th>\n",
       "      <th>survived</th>\n",
       "    </tr>\n",
       "  </thead>\n",
       "  <tbody>\n",
       "    <tr>\n",
       "      <th>0</th>\n",
       "      <td>0</td>\n",
       "      <td>0.171429</td>\n",
       "    </tr>\n",
       "    <tr>\n",
       "      <th>1</th>\n",
       "      <td>1</td>\n",
       "      <td>0.688312</td>\n",
       "    </tr>\n",
       "  </tbody>\n",
       "</table>\n",
       "</div>"
      ],
      "text/plain": [
       "   sex  survived\n",
       "0    0  0.171429\n",
       "1    1  0.688312"
      ]
     },
     "execution_count": 49,
     "metadata": {},
     "output_type": "execute_result"
    }
   ],
   "source": [
    "df_group_one=df_group_one.groupby(['sex'],as_index= False).mean()\n",
    "df_group_one"
   ]
  },
  {
   "cell_type": "markdown",
   "id": "68e1dd1c",
   "metadata": {},
   "source": [
    "It does look like females were more likely to survive. What's the p-value??"
   ]
  },
  {
   "cell_type": "code",
   "execution_count": 50,
   "id": "ba98a925",
   "metadata": {},
   "outputs": [
    {
     "name": "stdout",
     "output_type": "stream",
     "text": [
      "The Pearson Correlation Coefficient is 0.5102456274957139  with a P-value of P = 4.7727078605735494e-49\n"
     ]
    }
   ],
   "source": [
    "pearson_coef, p_value = stats.pearsonr(df_new3['sex'], df_new3 ['survived'])\n",
    "print(\"The Pearson Correlation Coefficient is\", pearson_coef, \" with a P-value of P =\", p_value) "
   ]
  },
  {
   "cell_type": "markdown",
   "id": "be40f42b",
   "metadata": {},
   "source": [
    "p value is low so looks statistically significant, include in model."
   ]
  },
  {
   "cell_type": "code",
   "execution_count": 51,
   "id": "8bd68991",
   "metadata": {},
   "outputs": [],
   "source": [
    "df_group_two=df_new3[['survived', 'pclass_1', 'pclass_2', 'pclass_3']]"
   ]
  },
  {
   "cell_type": "code",
   "execution_count": 52,
   "id": "7184e989",
   "metadata": {},
   "outputs": [
    {
     "data": {
      "text/html": [
       "<div>\n",
       "<style scoped>\n",
       "    .dataframe tbody tr th:only-of-type {\n",
       "        vertical-align: middle;\n",
       "    }\n",
       "\n",
       "    .dataframe tbody tr th {\n",
       "        vertical-align: top;\n",
       "    }\n",
       "\n",
       "    .dataframe thead th {\n",
       "        text-align: right;\n",
       "    }\n",
       "</style>\n",
       "<table border=\"1\" class=\"dataframe\">\n",
       "  <thead>\n",
       "    <tr style=\"text-align: right;\">\n",
       "      <th></th>\n",
       "      <th>pclass_1</th>\n",
       "      <th>pclass_2</th>\n",
       "      <th>pclass_3</th>\n",
       "      <th>survived</th>\n",
       "    </tr>\n",
       "  </thead>\n",
       "  <tbody>\n",
       "    <tr>\n",
       "      <th>0</th>\n",
       "      <td>0</td>\n",
       "      <td>0</td>\n",
       "      <td>1</td>\n",
       "      <td>0.240260</td>\n",
       "    </tr>\n",
       "    <tr>\n",
       "      <th>1</th>\n",
       "      <td>0</td>\n",
       "      <td>1</td>\n",
       "      <td>0</td>\n",
       "      <td>0.475610</td>\n",
       "    </tr>\n",
       "    <tr>\n",
       "      <th>2</th>\n",
       "      <td>1</td>\n",
       "      <td>0</td>\n",
       "      <td>0</td>\n",
       "      <td>0.568421</td>\n",
       "    </tr>\n",
       "  </tbody>\n",
       "</table>\n",
       "</div>"
      ],
      "text/plain": [
       "   pclass_1  pclass_2  pclass_3  survived\n",
       "0         0         0         1  0.240260\n",
       "1         0         1         0  0.475610\n",
       "2         1         0         0  0.568421"
      ]
     },
     "execution_count": 52,
     "metadata": {},
     "output_type": "execute_result"
    }
   ],
   "source": [
    "df_group_two = df_group_two.groupby(['pclass_1', 'pclass_2', 'pclass_3'],as_index= False).mean()\n",
    "df_group_two"
   ]
  },
  {
   "cell_type": "markdown",
   "id": "3a82a4dd",
   "metadata": {},
   "source": [
    "Looks like those in pclass 1 were more likely to survive. p-value??"
   ]
  },
  {
   "cell_type": "code",
   "execution_count": 53,
   "id": "eb942ee5",
   "metadata": {},
   "outputs": [
    {
     "name": "stdout",
     "output_type": "stream",
     "text": [
      "The Pearson Correlation Coefficient is 0.1906934653839755  with a P-value of P = 2.4837439310796223e-07\n"
     ]
    }
   ],
   "source": [
    "pearson_coef, p_value = stats.pearsonr(df_new3['pclass_1'], df_new3 ['survived'])\n",
    "print(\"The Pearson Correlation Coefficient is\", pearson_coef, \" with a P-value of P =\", p_value) "
   ]
  },
  {
   "cell_type": "markdown",
   "id": "c75c4897",
   "metadata": {},
   "source": [
    "p value is low so weak relationship looks statistically significant, include in model"
   ]
  },
  {
   "cell_type": "code",
   "execution_count": 54,
   "id": "f49e2d22",
   "metadata": {},
   "outputs": [],
   "source": [
    "df_group_three=df_new3[['survived', 'who_man', 'who_child', 'who_woman']]"
   ]
  },
  {
   "cell_type": "code",
   "execution_count": 55,
   "id": "b79731ed",
   "metadata": {},
   "outputs": [
    {
     "data": {
      "text/html": [
       "<div>\n",
       "<style scoped>\n",
       "    .dataframe tbody tr th:only-of-type {\n",
       "        vertical-align: middle;\n",
       "    }\n",
       "\n",
       "    .dataframe tbody tr th {\n",
       "        vertical-align: top;\n",
       "    }\n",
       "\n",
       "    .dataframe thead th {\n",
       "        text-align: right;\n",
       "    }\n",
       "</style>\n",
       "<table border=\"1\" class=\"dataframe\">\n",
       "  <thead>\n",
       "    <tr style=\"text-align: right;\">\n",
       "      <th></th>\n",
       "      <th>who_man</th>\n",
       "      <th>who_child</th>\n",
       "      <th>who_woman</th>\n",
       "      <th>survived</th>\n",
       "    </tr>\n",
       "  </thead>\n",
       "  <tbody>\n",
       "    <tr>\n",
       "      <th>0</th>\n",
       "      <td>0</td>\n",
       "      <td>0</td>\n",
       "      <td>1</td>\n",
       "      <td>0.695000</td>\n",
       "    </tr>\n",
       "    <tr>\n",
       "      <th>1</th>\n",
       "      <td>0</td>\n",
       "      <td>1</td>\n",
       "      <td>0</td>\n",
       "      <td>0.545455</td>\n",
       "    </tr>\n",
       "    <tr>\n",
       "      <th>2</th>\n",
       "      <td>1</td>\n",
       "      <td>0</td>\n",
       "      <td>0</td>\n",
       "      <td>0.158798</td>\n",
       "    </tr>\n",
       "  </tbody>\n",
       "</table>\n",
       "</div>"
      ],
      "text/plain": [
       "   who_man  who_child  who_woman  survived\n",
       "0        0          0          1  0.695000\n",
       "1        0          1          0  0.545455\n",
       "2        1          0          0  0.158798"
      ]
     },
     "execution_count": 55,
     "metadata": {},
     "output_type": "execute_result"
    }
   ],
   "source": [
    "df_group_three = df_group_three.groupby(['who_man', 'who_child', 'who_woman'],as_index= False).mean()\n",
    "df_group_three"
   ]
  },
  {
   "cell_type": "markdown",
   "id": "20be797c",
   "metadata": {},
   "source": [
    "Women and children were more likely to survive. What's the p-value?"
   ]
  },
  {
   "cell_type": "code",
   "execution_count": 56,
   "id": "404c02b5",
   "metadata": {},
   "outputs": [
    {
     "name": "stdout",
     "output_type": "stream",
     "text": [
      "The Pearson Correlation Coefficient is 0.46920069013964083  with a P-value of P = 9.507850619700206e-41\n"
     ]
    }
   ],
   "source": [
    "pearson_coef, p_value = stats.pearsonr(df_new3['who_woman'], df_new3 ['survived'])\n",
    "print(\"The Pearson Correlation Coefficient is\", pearson_coef, \" with a P-value of P =\", p_value) "
   ]
  },
  {
   "cell_type": "markdown",
   "id": "3c300064",
   "metadata": {},
   "source": [
    "Low p-value, statistically significant, include in model."
   ]
  },
  {
   "cell_type": "markdown",
   "id": "e8570ba9",
   "metadata": {},
   "source": [
    "We've analysed the features and decided to use these columns in the final model: survived (as the label), pclass_1, pclass_2, pclass_3, sex, fare, who_man, who_child, who_woman."
   ]
  },
  {
   "cell_type": "code",
   "execution_count": 57,
   "id": "a8026fae",
   "metadata": {},
   "outputs": [
    {
     "data": {
      "text/html": [
       "<div>\n",
       "<style scoped>\n",
       "    .dataframe tbody tr th:only-of-type {\n",
       "        vertical-align: middle;\n",
       "    }\n",
       "\n",
       "    .dataframe tbody tr th {\n",
       "        vertical-align: top;\n",
       "    }\n",
       "\n",
       "    .dataframe thead th {\n",
       "        text-align: right;\n",
       "    }\n",
       "</style>\n",
       "<table border=\"1\" class=\"dataframe\">\n",
       "  <thead>\n",
       "    <tr style=\"text-align: right;\">\n",
       "      <th></th>\n",
       "      <th>survived</th>\n",
       "      <th>sex</th>\n",
       "      <th>age</th>\n",
       "      <th>sibsp</th>\n",
       "      <th>parch</th>\n",
       "      <th>fare</th>\n",
       "      <th>adult_male</th>\n",
       "      <th>alone</th>\n",
       "      <th>pclass_1</th>\n",
       "      <th>pclass_2</th>\n",
       "      <th>pclass_3</th>\n",
       "      <th>who_child</th>\n",
       "      <th>who_man</th>\n",
       "      <th>who_woman</th>\n",
       "      <th>embark_town_Cherbourg</th>\n",
       "      <th>embark_town_Queenstown</th>\n",
       "      <th>embark_town_Southampton</th>\n",
       "    </tr>\n",
       "  </thead>\n",
       "  <tbody>\n",
       "    <tr>\n",
       "      <th>0</th>\n",
       "      <td>0</td>\n",
       "      <td>0</td>\n",
       "      <td>22.000000</td>\n",
       "      <td>1</td>\n",
       "      <td>0</td>\n",
       "      <td>7.2500</td>\n",
       "      <td>1</td>\n",
       "      <td>0</td>\n",
       "      <td>0</td>\n",
       "      <td>0</td>\n",
       "      <td>1</td>\n",
       "      <td>0</td>\n",
       "      <td>1</td>\n",
       "      <td>0</td>\n",
       "      <td>0</td>\n",
       "      <td>0</td>\n",
       "      <td>1</td>\n",
       "    </tr>\n",
       "    <tr>\n",
       "      <th>2</th>\n",
       "      <td>1</td>\n",
       "      <td>1</td>\n",
       "      <td>26.000000</td>\n",
       "      <td>0</td>\n",
       "      <td>0</td>\n",
       "      <td>7.9250</td>\n",
       "      <td>0</td>\n",
       "      <td>1</td>\n",
       "      <td>0</td>\n",
       "      <td>0</td>\n",
       "      <td>1</td>\n",
       "      <td>0</td>\n",
       "      <td>0</td>\n",
       "      <td>1</td>\n",
       "      <td>0</td>\n",
       "      <td>0</td>\n",
       "      <td>1</td>\n",
       "    </tr>\n",
       "    <tr>\n",
       "      <th>3</th>\n",
       "      <td>1</td>\n",
       "      <td>1</td>\n",
       "      <td>35.000000</td>\n",
       "      <td>1</td>\n",
       "      <td>0</td>\n",
       "      <td>53.1000</td>\n",
       "      <td>0</td>\n",
       "      <td>0</td>\n",
       "      <td>1</td>\n",
       "      <td>0</td>\n",
       "      <td>0</td>\n",
       "      <td>0</td>\n",
       "      <td>0</td>\n",
       "      <td>1</td>\n",
       "      <td>0</td>\n",
       "      <td>0</td>\n",
       "      <td>1</td>\n",
       "    </tr>\n",
       "    <tr>\n",
       "      <th>4</th>\n",
       "      <td>0</td>\n",
       "      <td>0</td>\n",
       "      <td>35.000000</td>\n",
       "      <td>0</td>\n",
       "      <td>0</td>\n",
       "      <td>8.0500</td>\n",
       "      <td>1</td>\n",
       "      <td>1</td>\n",
       "      <td>0</td>\n",
       "      <td>0</td>\n",
       "      <td>1</td>\n",
       "      <td>0</td>\n",
       "      <td>1</td>\n",
       "      <td>0</td>\n",
       "      <td>0</td>\n",
       "      <td>0</td>\n",
       "      <td>1</td>\n",
       "    </tr>\n",
       "    <tr>\n",
       "      <th>5</th>\n",
       "      <td>0</td>\n",
       "      <td>0</td>\n",
       "      <td>29.699118</td>\n",
       "      <td>0</td>\n",
       "      <td>0</td>\n",
       "      <td>8.4583</td>\n",
       "      <td>1</td>\n",
       "      <td>1</td>\n",
       "      <td>0</td>\n",
       "      <td>0</td>\n",
       "      <td>1</td>\n",
       "      <td>0</td>\n",
       "      <td>1</td>\n",
       "      <td>0</td>\n",
       "      <td>0</td>\n",
       "      <td>1</td>\n",
       "      <td>0</td>\n",
       "    </tr>\n",
       "  </tbody>\n",
       "</table>\n",
       "</div>"
      ],
      "text/plain": [
       "   survived  sex        age  sibsp  parch     fare  adult_male  alone  \\\n",
       "0         0    0  22.000000      1      0   7.2500           1      0   \n",
       "2         1    1  26.000000      0      0   7.9250           0      1   \n",
       "3         1    1  35.000000      1      0  53.1000           0      0   \n",
       "4         0    0  35.000000      0      0   8.0500           1      1   \n",
       "5         0    0  29.699118      0      0   8.4583           1      1   \n",
       "\n",
       "   pclass_1  pclass_2  pclass_3  who_child  who_man  who_woman  \\\n",
       "0         0         0         1          0        1          0   \n",
       "2         0         0         1          0        0          1   \n",
       "3         1         0         0          0        0          1   \n",
       "4         0         0         1          0        1          0   \n",
       "5         0         0         1          0        1          0   \n",
       "\n",
       "   embark_town_Cherbourg  embark_town_Queenstown  embark_town_Southampton  \n",
       "0                      0                       0                        1  \n",
       "2                      0                       0                        1  \n",
       "3                      0                       0                        1  \n",
       "4                      0                       0                        1  \n",
       "5                      0                       1                        0  "
      ]
     },
     "execution_count": 57,
     "metadata": {},
     "output_type": "execute_result"
    }
   ],
   "source": [
    "df_new3.head()"
   ]
  },
  {
   "cell_type": "code",
   "execution_count": 58,
   "id": "70bdb5d5",
   "metadata": {},
   "outputs": [
    {
     "data": {
      "text/html": [
       "<div>\n",
       "<style scoped>\n",
       "    .dataframe tbody tr th:only-of-type {\n",
       "        vertical-align: middle;\n",
       "    }\n",
       "\n",
       "    .dataframe tbody tr th {\n",
       "        vertical-align: top;\n",
       "    }\n",
       "\n",
       "    .dataframe thead th {\n",
       "        text-align: right;\n",
       "    }\n",
       "</style>\n",
       "<table border=\"1\" class=\"dataframe\">\n",
       "  <thead>\n",
       "    <tr style=\"text-align: right;\">\n",
       "      <th></th>\n",
       "      <th>survived</th>\n",
       "      <th>pclass_1</th>\n",
       "      <th>pclass_2</th>\n",
       "      <th>pclass_3</th>\n",
       "      <th>sex</th>\n",
       "      <th>fare</th>\n",
       "      <th>who_child</th>\n",
       "      <th>who_man</th>\n",
       "      <th>who_woman</th>\n",
       "    </tr>\n",
       "  </thead>\n",
       "  <tbody>\n",
       "    <tr>\n",
       "      <th>0</th>\n",
       "      <td>0</td>\n",
       "      <td>0</td>\n",
       "      <td>0</td>\n",
       "      <td>1</td>\n",
       "      <td>0</td>\n",
       "      <td>7.250</td>\n",
       "      <td>0</td>\n",
       "      <td>1</td>\n",
       "      <td>0</td>\n",
       "    </tr>\n",
       "    <tr>\n",
       "      <th>2</th>\n",
       "      <td>1</td>\n",
       "      <td>0</td>\n",
       "      <td>0</td>\n",
       "      <td>1</td>\n",
       "      <td>1</td>\n",
       "      <td>7.925</td>\n",
       "      <td>0</td>\n",
       "      <td>0</td>\n",
       "      <td>1</td>\n",
       "    </tr>\n",
       "    <tr>\n",
       "      <th>3</th>\n",
       "      <td>1</td>\n",
       "      <td>1</td>\n",
       "      <td>0</td>\n",
       "      <td>0</td>\n",
       "      <td>1</td>\n",
       "      <td>53.100</td>\n",
       "      <td>0</td>\n",
       "      <td>0</td>\n",
       "      <td>1</td>\n",
       "    </tr>\n",
       "  </tbody>\n",
       "</table>\n",
       "</div>"
      ],
      "text/plain": [
       "   survived  pclass_1  pclass_2  pclass_3  sex    fare  who_child  who_man  \\\n",
       "0         0         0         0         1    0   7.250          0        1   \n",
       "2         1         0         0         1    1   7.925          0        0   \n",
       "3         1         1         0         0    1  53.100          0        0   \n",
       "\n",
       "   who_woman  \n",
       "0          0  \n",
       "2          1  \n",
       "3          1  "
      ]
     },
     "execution_count": 58,
     "metadata": {},
     "output_type": "execute_result"
    }
   ],
   "source": [
    "df_final = df_new3[['survived', 'pclass_1', 'pclass_2', 'pclass_3', 'sex','fare', 'who_child', 'who_man', 'who_woman']]\n",
    "df_final.head(3)"
   ]
  },
  {
   "cell_type": "code",
   "execution_count": 59,
   "id": "10500dce",
   "metadata": {},
   "outputs": [],
   "source": [
    "from sklearn.model_selection import train_test_split"
   ]
  },
  {
   "cell_type": "code",
   "execution_count": 60,
   "id": "8cf9fa4a",
   "metadata": {},
   "outputs": [],
   "source": [
    "#dividing the dataset into train and test.\n",
    "x_train, x_test, y_train, y_test = train_test_split(df_final.iloc[:,1:9],df_final.iloc[:,0],test_size=0.2,random_state=42)"
   ]
  },
  {
   "cell_type": "code",
   "execution_count": 61,
   "id": "76225345",
   "metadata": {},
   "outputs": [
    {
     "data": {
      "text/plain": [
       "((721, 9), (576, 8), (576,), (145, 8), (145,))"
      ]
     },
     "execution_count": 61,
     "metadata": {},
     "output_type": "execute_result"
    }
   ],
   "source": [
    "df_final.shape, x_train.shape, y_train.shape, x_test.shape, y_test.shape"
   ]
  },
  {
   "cell_type": "code",
   "execution_count": 62,
   "id": "224f223a",
   "metadata": {},
   "outputs": [],
   "source": [
    "#Build logistic regression model\n",
    "from sklearn.linear_model import LogisticRegression\n"
   ]
  },
  {
   "cell_type": "code",
   "execution_count": 63,
   "id": "acccf6ee",
   "metadata": {},
   "outputs": [],
   "source": [
    "model_logistic = LogisticRegression()"
   ]
  },
  {
   "cell_type": "code",
   "execution_count": 64,
   "id": "bac05150",
   "metadata": {},
   "outputs": [
    {
     "data": {
      "text/plain": [
       "LogisticRegression()"
      ]
     },
     "execution_count": 64,
     "metadata": {},
     "output_type": "execute_result"
    }
   ],
   "source": [
    "#fitting Logistic Regression to Training data\n",
    "model_logistic.fit(x_train, y_train)"
   ]
  },
  {
   "cell_type": "code",
   "execution_count": 65,
   "id": "a2b155e3",
   "metadata": {},
   "outputs": [],
   "source": [
    "# Make predictions on test data\n",
    "predictions = model_logistic.predict(x_test)"
   ]
  },
  {
   "cell_type": "code",
   "execution_count": 66,
   "id": "9930fddb",
   "metadata": {},
   "outputs": [
    {
     "name": "stdout",
     "output_type": "stream",
     "text": [
      "0.7793103448275862\n"
     ]
    }
   ],
   "source": [
    "# Accuracy measures how correct our predictions were. \n",
    "score = model_logistic.score(x_test, y_test)\n",
    "print (score)"
   ]
  },
  {
   "cell_type": "code",
   "execution_count": 67,
   "id": "35ff0879",
   "metadata": {},
   "outputs": [
    {
     "name": "stdout",
     "output_type": "stream",
     "text": [
      "[[80 15]\n",
      " [17 33]]\n"
     ]
    }
   ],
   "source": [
    "# printing confusion matrix\n",
    "from sklearn.metrics import confusion_matrix\n",
    "matrix = confusion_matrix(y_test, predictions)\n",
    "print(matrix)"
   ]
  },
  {
   "cell_type": "markdown",
   "id": "e8e407b3",
   "metadata": {},
   "source": [
    "Decision tree next, I've already split the data so don't need to take those steps again"
   ]
  },
  {
   "cell_type": "code",
   "execution_count": 68,
   "id": "620bf811",
   "metadata": {},
   "outputs": [],
   "source": [
    "#import decision tree \n",
    "from sklearn import tree"
   ]
  },
  {
   "cell_type": "code",
   "execution_count": 69,
   "id": "13e0094d",
   "metadata": {},
   "outputs": [],
   "source": [
    "# Create tree object.\n",
    "model = tree.DecisionTreeClassifier(criterion='entropy')"
   ]
  },
  {
   "cell_type": "code",
   "execution_count": 70,
   "id": "c20c1da1",
   "metadata": {},
   "outputs": [
    {
     "data": {
      "text/plain": [
       "DecisionTreeClassifier(criterion='entropy')"
      ]
     },
     "execution_count": 70,
     "metadata": {},
     "output_type": "execute_result"
    }
   ],
   "source": [
    "#fitting Decision Tree Classification(Training Part)\n",
    "model.fit(x_train, y_train)"
   ]
  },
  {
   "cell_type": "code",
   "execution_count": 71,
   "id": "eeb80a50",
   "metadata": {},
   "outputs": [],
   "source": [
    "predictions2 = model.predict(x_test)"
   ]
  },
  {
   "cell_type": "code",
   "execution_count": 72,
   "id": "9f291e42",
   "metadata": {},
   "outputs": [
    {
     "name": "stdout",
     "output_type": "stream",
     "text": [
      "0.7724137931034483\n"
     ]
    }
   ],
   "source": [
    "score2 = model.score(x_test, y_test)\n",
    "print(score2)"
   ]
  },
  {
   "cell_type": "code",
   "execution_count": 73,
   "id": "e48b8d9e",
   "metadata": {},
   "outputs": [
    {
     "name": "stdout",
     "output_type": "stream",
     "text": [
      "[[81 14]\n",
      " [19 31]]\n"
     ]
    }
   ],
   "source": [
    "matrix = confusion_matrix(y_test, predictions2)\n",
    "print(matrix)"
   ]
  },
  {
   "cell_type": "markdown",
   "id": "72f4f776",
   "metadata": {},
   "source": [
    "77.2 compared to 77.9 for logistic regression. Not much difference."
   ]
  },
  {
   "cell_type": "markdown",
   "id": "6eafb702",
   "metadata": {},
   "source": [
    "Random forest next. "
   ]
  },
  {
   "cell_type": "code",
   "execution_count": 74,
   "id": "4627fbad",
   "metadata": {},
   "outputs": [],
   "source": [
    "#Import Random Forest library\n",
    "from sklearn.ensemble import RandomForestClassifier"
   ]
  },
  {
   "cell_type": "markdown",
   "id": "2099a81e",
   "metadata": {},
   "source": [
    "100 estimators seems sensible with the amount of data we have"
   ]
  },
  {
   "cell_type": "code",
   "execution_count": 75,
   "id": "2a13e86c",
   "metadata": {},
   "outputs": [],
   "source": [
    "# Create Random Forest object\n",
    "model2= RandomForestClassifier(n_estimators=100)"
   ]
  },
  {
   "cell_type": "code",
   "execution_count": 76,
   "id": "e6e2e1f5",
   "metadata": {},
   "outputs": [
    {
     "data": {
      "text/plain": [
       "RandomForestClassifier()"
      ]
     },
     "execution_count": 76,
     "metadata": {},
     "output_type": "execute_result"
    }
   ],
   "source": [
    "model2.fit(x_train, y_train)"
   ]
  },
  {
   "cell_type": "code",
   "execution_count": 77,
   "id": "9ee20789",
   "metadata": {},
   "outputs": [],
   "source": [
    "predictions3= model2.predict(x_test)"
   ]
  },
  {
   "cell_type": "code",
   "execution_count": 78,
   "id": "fb855782",
   "metadata": {},
   "outputs": [
    {
     "name": "stdout",
     "output_type": "stream",
     "text": [
      "0.7931034482758621\n"
     ]
    }
   ],
   "source": [
    "score3 = model2.score(x_test, y_test)\n",
    "print(score3)"
   ]
  },
  {
   "cell_type": "markdown",
   "id": "dfbd9334",
   "metadata": {},
   "source": [
    "Score has improved a bit for random forest, up from 77.2 for decision tree and 77.9 for logistic regression."
   ]
  },
  {
   "cell_type": "code",
   "execution_count": 79,
   "id": "7211822d",
   "metadata": {},
   "outputs": [
    {
     "name": "stdout",
     "output_type": "stream",
     "text": [
      "[[78 17]\n",
      " [13 37]]\n"
     ]
    }
   ],
   "source": [
    "matrix = confusion_matrix(y_test, predictions3)\n",
    "print(matrix)"
   ]
  },
  {
   "cell_type": "markdown",
   "id": "5db4b5cf",
   "metadata": {},
   "source": [
    "Lastly, gradient boosting machine."
   ]
  },
  {
   "cell_type": "code",
   "execution_count": 80,
   "id": "1434ba8b",
   "metadata": {},
   "outputs": [],
   "source": [
    "from sklearn.ensemble import GradientBoostingClassifier"
   ]
  },
  {
   "cell_type": "code",
   "execution_count": 81,
   "id": "0f40b6fd",
   "metadata": {},
   "outputs": [],
   "source": [
    "gb_clf = GradientBoostingClassifier(n_estimators=5, random_state=0)"
   ]
  },
  {
   "cell_type": "code",
   "execution_count": 82,
   "id": "8157edb2",
   "metadata": {},
   "outputs": [
    {
     "data": {
      "text/plain": [
       "GradientBoostingClassifier(n_estimators=5, random_state=0)"
      ]
     },
     "execution_count": 82,
     "metadata": {},
     "output_type": "execute_result"
    }
   ],
   "source": [
    "gb_clf.fit(x_train, y_train)"
   ]
  },
  {
   "cell_type": "code",
   "execution_count": 83,
   "id": "c3482a9d",
   "metadata": {},
   "outputs": [
    {
     "name": "stdout",
     "output_type": "stream",
     "text": [
      "Accuracy score: 0.779\n"
     ]
    }
   ],
   "source": [
    "print(\"Accuracy score: {0:.3f}\".format(gb_clf.score(x_test, y_test)))"
   ]
  },
  {
   "cell_type": "markdown",
   "id": "60a5cf66",
   "metadata": {},
   "source": [
    "Score is 77.9, same as logistic regression. "
   ]
  },
  {
   "cell_type": "code",
   "execution_count": 84,
   "id": "4749db16",
   "metadata": {},
   "outputs": [
    {
     "name": "stdout",
     "output_type": "stream",
     "text": [
      "Confusion Matrix:\n",
      "[[93  2]\n",
      " [30 20]]\n"
     ]
    }
   ],
   "source": [
    "predictions4 = gb_clf.predict(x_test)\n",
    "\n",
    "print(\"Confusion Matrix:\")\n",
    "print(confusion_matrix(y_test, predictions4))"
   ]
  },
  {
   "cell_type": "markdown",
   "id": "bc12d2e6",
   "metadata": {},
   "source": [
    "Summary of accuracy results:\n",
    "Logistic regression - 77.9\n",
    "Decision Tree - 77.2\n",
    "Random Forest - 79.3\n",
    "Gradient Boosting Machine - 77.9 "
   ]
  },
  {
   "cell_type": "markdown",
   "id": "624bf802",
   "metadata": {},
   "source": [
    "It would be interesting to see how the accuracy of the algorithms changes in different situations. For example, what would happen if we didn't remove outliers? What would happen if we chose different features to include in our model?"
   ]
  },
  {
   "cell_type": "markdown",
   "id": "3d790fc0",
   "metadata": {},
   "source": [
    "I tried not removing outliers in a copy of this notebook (keeping everything else the same). The accuracy metrics changed more than I expected: Logistic regression - 79.3 Decision Tree - 83.2 Random Forest - 83.2 Gradient Boosting Machine - 77.7. 170 rows were deleted when I removed outliers which is a lot of data. In this case it would have been a better approach to only remove extreme outliers or not remove any outliers at all. "
   ]
  },
  {
   "cell_type": "markdown",
   "id": "baa402a1",
   "metadata": {},
   "source": [
    "When I selected features for the model above I looked at the correlation with label and chose those with a high, statistically significant correlation. My concern was that I dismissed some features straightaway which didn't have high correlation with the label but did have high correlation with other features that I chose. In another copy of this notebook I included the alone column in my final model because it had high, statisically significant correlation with fare, who_man and who_woman. When I ran the algorithms again my accuracy metrics were surprisingly lower than my first attempt. Logistic regression - 75.9, Decision Tree - 76.5, Random Forest - 77.9, Gradient Boosting Machine - 77.9. I'm not sure why and would need to investigate further. "
   ]
  },
  {
   "cell_type": "code",
   "execution_count": null,
   "id": "cdef136d",
   "metadata": {},
   "outputs": [],
   "source": []
  }
 ],
 "metadata": {
  "kernelspec": {
   "display_name": "Python 3",
   "language": "python",
   "name": "python3"
  },
  "language_info": {
   "codemirror_mode": {
    "name": "ipython",
    "version": 3
   },
   "file_extension": ".py",
   "mimetype": "text/x-python",
   "name": "python",
   "nbconvert_exporter": "python",
   "pygments_lexer": "ipython3",
   "version": "3.8.8"
  }
 },
 "nbformat": 4,
 "nbformat_minor": 5
}
